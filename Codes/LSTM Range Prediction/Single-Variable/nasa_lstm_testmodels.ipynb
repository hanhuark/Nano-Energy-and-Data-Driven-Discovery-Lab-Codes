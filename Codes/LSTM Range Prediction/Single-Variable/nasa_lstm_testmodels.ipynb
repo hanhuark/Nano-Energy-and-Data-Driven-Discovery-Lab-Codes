{
 "cells": [
  {
   "cell_type": "markdown",
   "metadata": {},
   "source": [
    "### Code to test single-variable LSTM models trained using NASA weather data."
   ]
  },
  {
   "cell_type": "code",
   "execution_count": 2,
   "metadata": {},
   "outputs": [],
   "source": [
    "import os\n",
    "import pandas as pd\n",
    "import matplotlib.pyplot as plt\n",
    "import numpy as np\n",
    "from numpy import array\n",
    "import math\n",
    "from keras.models import Sequential\n",
    "from keras.layers import Dense\n",
    "from keras.layers import LSTM\n",
    "from keras.layers import Flatten\n",
    "from keras.models import load_model\n",
    "from keras.callbacks import EarlyStopping\n",
    "from sklearn.preprocessing import MinMaxScaler\n",
    "from sklearn.metrics import mean_squared_error"
   ]
  },
  {
   "cell_type": "markdown",
   "metadata": {},
   "source": [
    "Evaporation Data"
   ]
  },
  {
   "cell_type": "code",
   "execution_count": 8,
   "metadata": {},
   "outputs": [],
   "source": [
    "# Fix random seed for reproducibility\n",
    "np.random.seed(7)\n",
    "\n",
    "def split_sequence(sequence, n_steps_in, n_steps_out):\n",
    "    X, y = list(), list()\n",
    "    for i in range(len(sequence)):\n",
    "        # Finding the end of the pattern\n",
    "        end_ix = i + n_steps_in\n",
    "        out_end_ix = end_ix + n_steps_out\n",
    "        \n",
    "        # Checking if we are beyond the sequence\n",
    "        if out_end_ix > len(sequence):\n",
    "            break\n",
    "            \n",
    "        # Gather input and output parts of pattern\n",
    "        seq_x, seq_y = sequence[i:end_ix], sequence[end_ix: out_end_ix]\n",
    "        X.append(seq_x)\n",
    "        y.append(seq_y)\n",
    "    return array(X), array(y)\n",
    "\n",
    "def load_col(txtfile, col, process):\n",
    "    dataset = pandas.read_csv(txtfile, sep='\\t',\n",
    "                               header=None,usecols=[col])\n",
    "    if process==True:\n",
    "        #dataset = dataset.values[2:]\n",
    "        dataset = dataset.astype('float32')\n",
    "        scaler = MinMaxScaler(feature_range=(0,1))\n",
    "        dataset = scaler.fit_transform(dataset)\n",
    "        return dataset, scaler\n",
    "    elif process==False:\n",
    "        return dataset"
   ]
  },
  {
   "cell_type": "code",
   "execution_count": 11,
   "metadata": {},
   "outputs": [
    {
     "data": {
      "text/plain": [
       "['.ipynb_checkpoints',\n",
       " 'longwave_radiation_flux.txt',\n",
       " 'nasa_evaporation.h5',\n",
       " 'nasa_evaporation.slurm',\n",
       " 'nasa_evaporation_outfile.txt',\n",
       " 'nasa_lstm_testmodels.ipynb',\n",
       " 'nasa_radiation.slurm',\n",
       " 'nasa_singlevar_lstm_1.0.0.py',\n",
       " 'nasa_temperature.slurm',\n",
       " 'potential_evaporation.txt',\n",
       " 'temperature.txt']"
      ]
     },
     "execution_count": 11,
     "metadata": {},
     "output_type": "execute_result"
    }
   ],
   "source": [
    "os.listdir()"
   ]
  },
  {
   "cell_type": "code",
   "execution_count": 89,
   "metadata": {},
   "outputs": [
    {
     "name": "stdout",
     "output_type": "stream",
     "text": [
      "preparing data...\n",
      "done!\n",
      "loading model...\n",
      "done!\n"
     ]
    }
   ],
   "source": [
    "# Load data from text file with selected columns, scaled to (0,1)\n",
    "F = \"potential_evaporation.txt\"\n",
    "C = 0\n",
    "I = 100\n",
    "O = 100 \n",
    "data_array, data_scaler = load_col(F, C, True)\n",
    "#print(data_array[0:10])\n",
    "n_steps_in = I\n",
    "n_steps_out = O\n",
    "dataset = data_array\n",
    "n_features = 1\n",
    "\n",
    "print(\"preparing data...\")\n",
    "X_dataset, y_dataset = split_sequence(data_array, n_steps_in, n_steps_out)\n",
    "y_dataset = y_dataset.reshape((y_dataset.shape[0], y_dataset.shape[1]))\n",
    "print(\"done!\")\n",
    "\n",
    "print(\"loading model...\")\n",
    "model = load_model(\"nasa_evaporation.h5\")\n",
    "print(\"done!\")"
   ]
  },
  {
   "cell_type": "code",
   "execution_count": 90,
   "metadata": {},
   "outputs": [],
   "source": [
    "yhat = model.predict(X_dataset)"
   ]
  },
  {
   "cell_type": "code",
   "execution_count": 91,
   "metadata": {},
   "outputs": [],
   "source": [
    "yhat_1 = []\n",
    "for i in range(len(dataset) - n_steps_in - n_steps_out + 1):\n",
    "    yhat_1.append(yhat[i][0])\n",
    "yhat_1 = np.reshape(yhat_1, (-1,1))\n",
    "inv_yhat_1 = data_scaler.inverse_transform(yhat_1)"
   ]
  },
  {
   "cell_type": "code",
   "execution_count": 95,
   "metadata": {},
   "outputs": [
    {
     "name": "stdout",
     "output_type": "stream",
     "text": [
      "Opened txt file\n",
      "Closed txt file\n"
     ]
    }
   ],
   "source": [
    "outputfilename = \"nasa_evaporation_prediction_full.txt\"\n",
    "\n",
    "output_file = open(outputfilename, \"w\")\n",
    "\n",
    "print(\"Opened txt file\")\n",
    "\n",
    "for i in range(len(inv_yhat_1)):\n",
    "    #print(i, end='\\r')\n",
    "    entry = str(inv_yhat_1[i][0]) + \"\\n\"\n",
    "    output_file.write(entry)\n",
    "\n",
    "print(\"Closed txt file\")"
   ]
  },
  {
   "cell_type": "code",
   "execution_count": 60,
   "metadata": {},
   "outputs": [],
   "source": [
    "yhat_201 = yhat[201]\n",
    "yhat_201 = yhat_201.reshape(-1,1)"
   ]
  },
  {
   "cell_type": "code",
   "execution_count": 61,
   "metadata": {},
   "outputs": [],
   "source": [
    "#scaler = MinMaxScaler(feature_range=(0,1)).fit(yhat_201)\n",
    "inverted = data_scaler.inverse_transform(yhat_201)"
   ]
  },
  {
   "cell_type": "code",
   "execution_count": 71,
   "metadata": {},
   "outputs": [
    {
     "name": "stdout",
     "output_type": "stream",
     "text": [
      "Opened txt file\n",
      "Closed txt file\n"
     ]
    }
   ],
   "source": [
    "outputfilename = \"nasa_evaporation_prediction_201_to_300.txt\"\n",
    "\n",
    "output_file = open(outputfilename, \"w\")\n",
    "\n",
    "print(\"Opened txt file\")\n",
    "\n",
    "for i in range(len(inverted)):\n",
    "    #print(i, end='\\r')\n",
    "    entry = str(inverted[i][0]) + \"\\n\"\n",
    "    output_file.write(entry)\n",
    "\n",
    "print(\"Closed txt file\")"
   ]
  },
  {
   "cell_type": "markdown",
   "metadata": {},
   "source": [
    "Radiation Data"
   ]
  },
  {
   "cell_type": "code",
   "execution_count": 24,
   "metadata": {},
   "outputs": [
    {
     "name": "stdout",
     "output_type": "stream",
     "text": [
      "preparing data...\n",
      "done!\n",
      "loading model...\n",
      "done!\n"
     ]
    }
   ],
   "source": [
    "# Load data from text file with selected columns, scaled to (0,1)\n",
    "F = \"longwave_radiation_flux.txt\"\n",
    "C = 0\n",
    "I = 100\n",
    "O = 100 \n",
    "data_array, data_scaler = load_col(F, C, True)\n",
    "#print(data_array[0:10])\n",
    "n_steps_in = I\n",
    "n_steps_out = O\n",
    "dataset = data_array\n",
    "n_features = 1\n",
    "\n",
    "print(\"preparing data...\")\n",
    "X_dataset, y_dataset = split_sequence(data_array, n_steps_in, n_steps_out)\n",
    "y_dataset = y_dataset.reshape((y_dataset.shape[0], y_dataset.shape[1]))\n",
    "print(\"done!\")\n",
    "\n",
    "print(\"loading model...\")\n",
    "model = load_model(\"nasa_radiation_laptop.h5\")\n",
    "print(\"done!\")"
   ]
  },
  {
   "cell_type": "code",
   "execution_count": 25,
   "metadata": {},
   "outputs": [],
   "source": [
    "yhat = model.predict(X_dataset)"
   ]
  },
  {
   "cell_type": "code",
   "execution_count": 26,
   "metadata": {},
   "outputs": [],
   "source": [
    "yhat_201 = yhat[201]\n",
    "yhat_201 = yhat_201.reshape(-1,1)"
   ]
  },
  {
   "cell_type": "code",
   "execution_count": 27,
   "metadata": {},
   "outputs": [],
   "source": [
    "#scaler = MinMaxScaler(feature_range=(0,1)).fit(yhat_201)\n",
    "inverted = data_scaler.inverse_transform(yhat_201)"
   ]
  },
  {
   "cell_type": "code",
   "execution_count": 28,
   "metadata": {},
   "outputs": [
    {
     "name": "stdout",
     "output_type": "stream",
     "text": [
      "Opened txt file\n",
      "Closed txt file\n"
     ]
    }
   ],
   "source": [
    "outputfilename = \"nasa_radiation_prediction_201_to_300.txt\"\n",
    "\n",
    "output_file = open(outputfilename, \"w\")\n",
    "\n",
    "print(\"Opened txt file\")\n",
    "\n",
    "for i in range(len(inverted)):\n",
    "    #print(i, end='\\r')\n",
    "    entry = str(inverted[i][0]) + \"\\n\"\n",
    "    output_file.write(entry)\n",
    "\n",
    "print(\"Closed txt file\")"
   ]
  },
  {
   "cell_type": "code",
   "execution_count": 29,
   "metadata": {},
   "outputs": [],
   "source": [
    "yhat_1 = []\n",
    "for i in range(len(dataset) - n_steps_in - n_steps_out + 1):\n",
    "    yhat_1.append(yhat[i][0])\n",
    "yhat_1 = np.reshape(yhat_1, (-1,1))\n",
    "inv_yhat_1 = data_scaler.inverse_transform(yhat_1)"
   ]
  },
  {
   "cell_type": "code",
   "execution_count": 31,
   "metadata": {},
   "outputs": [
    {
     "name": "stdout",
     "output_type": "stream",
     "text": [
      "Opened txt file\n",
      "Closed txt file\n"
     ]
    }
   ],
   "source": [
    "outputfilename = \"nasa_radiation_prediction_full.txt\"\n",
    "\n",
    "output_file = open(outputfilename, \"w\")\n",
    "\n",
    "print(\"Opened txt file\")\n",
    "\n",
    "for i in range(len(inv_yhat_1)):\n",
    "    #print(i, end='\\r')\n",
    "    entry = str(inv_yhat_1[i][0]) + \"\\n\"\n",
    "    output_file.write(entry)\n",
    "\n",
    "print(\"Closed txt file\")"
   ]
  },
  {
   "cell_type": "markdown",
   "metadata": {},
   "source": [
    "Temperature Data"
   ]
  },
  {
   "cell_type": "code",
   "execution_count": 15,
   "metadata": {},
   "outputs": [],
   "source": [
    "# Fix random seed for reproducibility\n",
    "np.random.seed(7)\n",
    "\n",
    "def split_sequence(sequence, n_steps_in, n_steps_out):\n",
    "    X, y = list(), list()\n",
    "    for i in range(len(sequence)):\n",
    "        # Finding the end of the pattern\n",
    "        end_ix = i + n_steps_in\n",
    "        out_end_ix = end_ix + n_steps_out\n",
    "        \n",
    "        # Checking if we are beyond the sequence\n",
    "        if out_end_ix > len(sequence):\n",
    "            break\n",
    "            \n",
    "        # Gather input and output parts of pattern\n",
    "        seq_x, seq_y = sequence[i:end_ix], sequence[end_ix: out_end_ix]\n",
    "        X.append(seq_x)\n",
    "        y.append(seq_y)\n",
    "    return array(X), array(y)\n",
    "\n",
    "def load_col(txtfile, col, process):\n",
    "    dataset = pd.read_csv(txtfile, sep='\\t',\n",
    "                               header=None,usecols=[col])\n",
    "    if process==True:\n",
    "        #dataset = dataset.values[2:]\n",
    "        dataset = dataset.astype('float32')\n",
    "        scaler = MinMaxScaler(feature_range=(0,1))\n",
    "        dataset = scaler.fit_transform(dataset)\n",
    "        return dataset, scaler\n",
    "    elif process==False:\n",
    "        return dataset"
   ]
  },
  {
   "cell_type": "code",
   "execution_count": 16,
   "metadata": {},
   "outputs": [
    {
     "name": "stdout",
     "output_type": "stream",
     "text": [
      "preparing data...\n",
      "done!\n",
      "loading model...\n",
      "done!\n"
     ]
    }
   ],
   "source": [
    "# Load data from text file with selected columns, scaled to (0,1)\n",
    "F = \"temperature.txt\"\n",
    "C = 0\n",
    "I = 100\n",
    "O = 100 \n",
    "data_array, data_scaler = load_col(F, C, True)\n",
    "#print(data_array[0:10])\n",
    "n_steps_in = I\n",
    "n_steps_out = O\n",
    "dataset = data_array\n",
    "n_features = 1\n",
    "\n",
    "print(\"preparing data...\")\n",
    "X_dataset, y_dataset = split_sequence(data_array, n_steps_in, n_steps_out)\n",
    "y_dataset = y_dataset.reshape((y_dataset.shape[0], y_dataset.shape[1]))\n",
    "print(\"done!\")\n",
    "\n",
    "print(\"loading model...\")\n",
    "model = load_model(\"nasa_temperature_100_100.h5\")\n",
    "print(\"done!\")"
   ]
  },
  {
   "cell_type": "code",
   "execution_count": 17,
   "metadata": {},
   "outputs": [],
   "source": [
    "yhat = model.predict(X_dataset)"
   ]
  },
  {
   "cell_type": "code",
   "execution_count": 18,
   "metadata": {},
   "outputs": [],
   "source": [
    "yhat_201 = yhat[201]\n",
    "yhat_201 = yhat_201.reshape(-1,1)\n",
    "inverted = data_scaler.inverse_transform(yhat_201)"
   ]
  },
  {
   "cell_type": "code",
   "execution_count": 19,
   "metadata": {},
   "outputs": [
    {
     "data": {
      "text/plain": [
       "[<matplotlib.lines.Line2D at 0x1f869b35e88>]"
      ]
     },
     "execution_count": 19,
     "metadata": {},
     "output_type": "execute_result"
    },
    {
     "data": {
      "image/png": "[encoded data removed]",
      "text/plain": [
       "<Figure size 432x288 with 1 Axes>"
      ]
     },
     "metadata": {
      "needs_background": "light"
     },
     "output_type": "display_data"
    }
   ],
   "source": [
    "plt.plot(inverted)"
   ]
  },
  {
   "cell_type": "code",
   "execution_count": 20,
   "metadata": {},
   "outputs": [
    {
     "name": "stdout",
     "output_type": "stream",
     "text": [
      "Opened txt file\n",
      "Closed txt file\n"
     ]
    }
   ],
   "source": [
    "outputfilename = \"nasa_temperature_100in_100out_prediction_201_to_300.txt\"\n",
    "\n",
    "output_file = open(outputfilename, \"w\")\n",
    "\n",
    "print(\"Opened txt file\")\n",
    "\n",
    "for i in range(len(inverted)):\n",
    "    #print(i, end='\\r')\n",
    "    entry = str(inverted[i][0]) + \"\\n\"\n",
    "    output_file.write(entry)\n",
    "\n",
    "print(\"Closed txt file\")"
   ]
  },
  {
   "cell_type": "code",
   "execution_count": 21,
   "metadata": {},
   "outputs": [],
   "source": [
    "yhat_1 = []\n",
    "for i in range(len(dataset) - n_steps_in - n_steps_out + 1):\n",
    "    yhat_1.append(yhat[i][0])\n",
    "yhat_1 = np.reshape(yhat_1, (-1,1))\n",
    "inv_yhat_1 = data_scaler.inverse_transform(yhat_1)"
   ]
  },
  {
   "cell_type": "code",
   "execution_count": 23,
   "metadata": {},
   "outputs": [
    {
     "name": "stdout",
     "output_type": "stream",
     "text": [
      "Opened txt file\n",
      "Closed txt file\n"
     ]
    }
   ],
   "source": [
    "outputfilename = \"nasa_temperature_prediction_full.txt\"\n",
    "\n",
    "output_file = open(outputfilename, \"w\")\n",
    "\n",
    "print(\"Opened txt file\")\n",
    "\n",
    "for i in range(len(inv_yhat_1)):\n",
    "    #print(i, end='\\r')\n",
    "    entry = str(inv_yhat_1[i][0]) + \"\\n\"\n",
    "    output_file.write(entry)\n",
    "\n",
    "print(\"Closed txt file\")"
   ]
  },
  {
   "cell_type": "code",
   "execution_count": null,
   "metadata": {},
   "outputs": [],
   "source": []
  }
 ],
 "metadata": {
  "kernelspec": {
   "display_name": "Python 3",
   "language": "python",
   "name": "python3"
  },
  "language_info": {
   "codemirror_mode": {
    "name": "ipython",
    "version": 3
   },
   "file_extension": ".py",
   "mimetype": "text/x-python",
   "name": "python",
   "nbconvert_exporter": "python",
   "pygments_lexer": "ipython3",
   "version": "3.7.6"
  }
 },
 "nbformat": 4,
 "nbformat_minor": 4
}
