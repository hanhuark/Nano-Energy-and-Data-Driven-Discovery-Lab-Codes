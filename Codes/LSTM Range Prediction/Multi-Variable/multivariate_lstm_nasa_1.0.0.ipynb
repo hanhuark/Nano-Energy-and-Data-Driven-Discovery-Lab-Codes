{
 "cells": [
  {
   "cell_type": "markdown",
   "metadata": {},
   "source": [
    "## Version History\n",
    "- 1.0.0 - original tutorial code, with custom dataset (https://machinelearningmastery.com/multivariate-time-series-forecasting-lstms-keras/)\n",
    "- 1.0.1 - different code structure to try multivariate and multi-step (https://machinelearningmastery.com/how-to-develop-lstm-models-for-time-series-forecasting/)"
   ]
  },
  {
   "cell_type": "code",
   "execution_count": 27,
   "metadata": {},
   "outputs": [],
   "source": [
    "import pandas as pd\n",
    "from pandas import DataFrame\n",
    "from pandas import concat\n",
    "from sklearn.preprocessing import LabelEncoder\n",
    "from sklearn.preprocessing import MinMaxScaler\n",
    "from sklearn.metrics import mean_squared_error\n",
    "import numpy as np\n",
    "from numpy import array, hstack\n",
    "import matplotlib.pyplot as plt\n",
    "import os, math\n",
    "from keras import Sequential\n",
    "from keras.layers import LSTM, Dense\n",
    "from keras.callbacks import EarlyStopping, ModelCheckpoint"
   ]
  },
  {
   "cell_type": "code",
   "execution_count": 2,
   "metadata": {},
   "outputs": [
    {
     "data": {
      "text/plain": [
       "['.ipynb_checkpoints',\n",
       " 'hydrology_2var.slurm',\n",
       " 'hydrology_3var.slurm',\n",
       " 'longwave_radiation_flux.txt',\n",
       " 'multivariable_hydrology_lstm.py',\n",
       " 'multivariable_lstm_nasa_1.0.0.py',\n",
       " 'multivariate_hydrology.txt',\n",
       " 'multivariate_lstm_nasa_1.0.0.ipynb',\n",
       " 'nasa_evaporation.h5',\n",
       " 'nasa_evaporation.slurm',\n",
       " 'nasa_evaporation_outfile.txt',\n",
       " 'nasa_evaporation_prediction_201_to_300.txt',\n",
       " 'nasa_evaporation_prediction_full.txt',\n",
       " 'nasa_longwave_radiation_laptop.ipynb',\n",
       " 'nasa_lstm_testmodels.ipynb',\n",
       " 'nasa_radiation.slurm',\n",
       " 'nasa_radiation_laptop.h5',\n",
       " 'nasa_radiation_laptop_outfile.txt',\n",
       " 'nasa_radiation_prediction_201_to_300.txt',\n",
       " 'nasa_singlevar_lstm_1.0.0.py',\n",
       " 'nasa_temperature.slurm',\n",
       " 'potential_evaporation.txt',\n",
       " 'temperature.txt']"
      ]
     },
     "execution_count": 2,
     "metadata": {},
     "output_type": "execute_result"
    }
   ],
   "source": [
    "os.listdir()"
   ]
  },
  {
   "cell_type": "code",
   "execution_count": 10,
   "metadata": {},
   "outputs": [],
   "source": [
    "# Fix random seed for reproducibility\n",
    "np.random.seed(7)\n",
    "\n",
    "def split_sequence(sequence, n_steps_in, n_steps_out):\n",
    "    X, y = list(), list()\n",
    "    for i in range(len(sequence)):\n",
    "        # Finding the end of the pattern\n",
    "        end_ix = i + n_steps_in\n",
    "        out_end_ix = end_ix + n_steps_out\n",
    "        \n",
    "        # Checking if we are beyond the sequence\n",
    "        if out_end_ix > len(sequence):\n",
    "            break\n",
    "            \n",
    "        # Gather input and output parts of pattern\n",
    "        seq_x, seq_y = sequence[i:end_ix], sequence[end_ix: out_end_ix]\n",
    "        X.append(seq_x)\n",
    "        y.append(seq_y)\n",
    "    return array(X), array(y)\n",
    "\n",
    "def load_col(txtfile, col, process):\n",
    "    dataset = pd.read_csv(txtfile, sep='\\t',\n",
    "                               header=None,usecols=[col])\n",
    "    if process==True:\n",
    "        #dataset = dataset.values[2:]\n",
    "        dataset = dataset.astype('float32')\n",
    "        scaler = MinMaxScaler(feature_range=(0,1))\n",
    "        dataset = scaler.fit_transform(dataset)\n",
    "        return dataset, scaler\n",
    "    elif process==False:\n",
    "        return dataset"
   ]
  },
  {
   "cell_type": "code",
   "execution_count": 11,
   "metadata": {},
   "outputs": [],
   "source": [
    "evaporation_array, evaporation_scaler = load_col(\"potential_evaporation.txt\", 0, True)\n",
    "radiation_array, radiation_scaler = load_col(\"longwave_radiation_flux.txt\", 0, True)"
   ]
  },
  {
   "cell_type": "code",
   "execution_count": 13,
   "metadata": {},
   "outputs": [
    {
     "name": "stdout",
     "output_type": "stream",
     "text": [
      "[[0.12554154]\n",
      " [0.06161548]\n",
      " [0.06161548]\n",
      " ...\n",
      " [0.73707515]\n",
      " [0.5179551 ]\n",
      " [0.5179551 ]]\n",
      "[[0.2711626 ]\n",
      " [0.2711626 ]\n",
      " [0.27119455]\n",
      " ...\n",
      " [0.92040443]\n",
      " [0.92040443]\n",
      " [0.92040443]]\n"
     ]
    }
   ],
   "source": [
    "print(evaporation_array)\n",
    "print(radiation_array)"
   ]
  },
  {
   "cell_type": "code",
   "execution_count": 14,
   "metadata": {},
   "outputs": [],
   "source": [
    "full_dataset_scaled = hstack((evaporation_array, radiation_array))"
   ]
  },
  {
   "cell_type": "code",
   "execution_count": 36,
   "metadata": {},
   "outputs": [
    {
     "name": "stdout",
     "output_type": "stream",
     "text": [
      "(3905, 100, 2) (3905, 100, 2)\n"
     ]
    }
   ],
   "source": [
    "n_steps_in = 100\n",
    "n_steps_out = 100\n",
    "X, y = split_sequence(full_dataset_scaled, n_steps_in, n_steps_out)\n",
    "n_features = X.shape[2]\n",
    "\n",
    "print(X.shape, y.shape)\n",
    "\n",
    "es = EarlyStopping(patience=4, monitor='loss')\n",
    "mc = ModelCheckpoint(\"chkp/model.hdf5\", monitor='loss', save_best_only=True, mode='min')"
   ]
  },
  {
   "cell_type": "code",
   "execution_count": 37,
   "metadata": {},
   "outputs": [],
   "source": [
    "# define model\n",
    "model = Sequential()\n",
    "model.add(LSTM(n_steps_in, activation='relu', return_sequences=True, input_shape=(n_steps_in, n_features)))\n",
    "model.add(LSTM(n_steps_in, activation='relu', return_sequences=True))\n",
    "model.add(Dense(n_features))\n",
    "model.compile(optimizer='adam', loss='mse')"
   ]
  },
  {
   "cell_type": "code",
   "execution_count": 38,
   "metadata": {},
   "outputs": [
    {
     "name": "stdout",
     "output_type": "stream",
     "text": [
      "Model: \"sequential_5\"\n",
      "_________________________________________________________________\n",
      "Layer (type)                 Output Shape              Param #   \n",
      "=================================================================\n",
      "lstm_9 (LSTM)                (None, 100, 100)          41200     \n",
      "_________________________________________________________________\n",
      "lstm_10 (LSTM)               (None, 100, 100)          80400     \n",
      "_________________________________________________________________\n",
      "dense_5 (Dense)              (None, 100, 2)            202       \n",
      "=================================================================\n",
      "Total params: 121,802\n",
      "Trainable params: 121,802\n",
      "Non-trainable params: 0\n",
      "_________________________________________________________________\n"
     ]
    }
   ],
   "source": [
    "model.summary()"
   ]
  },
  {
   "cell_type": "code",
   "execution_count": 41,
   "metadata": {
    "scrolled": true
   },
   "outputs": [
    {
     "name": "stdout",
     "output_type": "stream",
     "text": [
      "Epoch 1/50\n",
      "3905/3905 [==============================] - 26s 7ms/step - loss: 0.0171\n",
      "Epoch 2/50\n",
      "3905/3905 [==============================] - 26s 7ms/step - loss: 0.0171\n",
      "Epoch 3/50\n",
      "3905/3905 [==============================] - 26s 7ms/step - loss: 0.0170\n",
      "Epoch 4/50\n",
      "3905/3905 [==============================] - 26s 7ms/step - loss: 0.0169\n",
      "Epoch 5/50\n",
      "3905/3905 [==============================] - 26s 7ms/step - loss: 0.0169\n",
      "Epoch 6/50\n",
      "3905/3905 [==============================] - 26s 7ms/step - loss: 0.0169\n",
      "Epoch 7/50\n",
      "3905/3905 [==============================] - 26s 7ms/step - loss: 0.0168\n",
      "Epoch 8/50\n",
      "3905/3905 [==============================] - 26s 7ms/step - loss: 0.0168\n",
      "Epoch 9/50\n",
      "3905/3905 [==============================] - 26s 7ms/step - loss: 0.0167\n",
      "Epoch 10/50\n",
      "3905/3905 [==============================] - 26s 7ms/step - loss: 0.0167\n",
      "Epoch 11/50\n",
      "3905/3905 [==============================] - 26s 7ms/step - loss: 0.0167\n",
      "Epoch 12/50\n",
      "3905/3905 [==============================] - 26s 7ms/step - loss: 0.0166\n",
      "Epoch 13/50\n",
      "3905/3905 [==============================] - 26s 7ms/step - loss: 0.0166\n",
      "Epoch 14/50\n",
      "3905/3905 [==============================] - 26s 7ms/step - loss: 0.0166\n",
      "Epoch 15/50\n",
      "3905/3905 [==============================] - 26s 7ms/step - loss: 0.0165\n",
      "Epoch 16/50\n",
      "3905/3905 [==============================] - 26s 7ms/step - loss: 0.0165\n",
      "Epoch 17/50\n",
      "3905/3905 [==============================] - 26s 7ms/step - loss: 0.0165\n",
      "Epoch 18/50\n",
      "3905/3905 [==============================] - 26s 7ms/step - loss: 0.0164\n",
      "Epoch 19/50\n",
      "3905/3905 [==============================] - 26s 7ms/step - loss: 0.0164\n",
      "Epoch 20/50\n",
      "3905/3905 [==============================] - 26s 7ms/step - loss: 0.0163\n",
      "Epoch 21/50\n",
      "3905/3905 [==============================] - 26s 7ms/step - loss: 0.0163\n",
      "Epoch 22/50\n",
      "3905/3905 [==============================] - 26s 7ms/step - loss: 0.0163\n",
      "Epoch 23/50\n",
      "3905/3905 [==============================] - 26s 7ms/step - loss: 0.0162\n",
      "Epoch 24/50\n",
      "3905/3905 [==============================] - 26s 7ms/step - loss: 0.0162\n",
      "Epoch 25/50\n",
      "3905/3905 [==============================] - 26s 7ms/step - loss: 0.0162\n",
      "Epoch 26/50\n",
      "3905/3905 [==============================] - 26s 7ms/step - loss: 0.0161\n",
      "Epoch 27/50\n",
      "3905/3905 [==============================] - 26s 7ms/step - loss: 0.0160\n",
      "Epoch 28/50\n",
      "3905/3905 [==============================] - 26s 7ms/step - loss: 0.0159\n",
      "Epoch 29/50\n",
      "3905/3905 [==============================] - 26s 7ms/step - loss: 0.0158\n",
      "Epoch 30/50\n",
      "3905/3905 [==============================] - 26s 7ms/step - loss: 0.0156\n",
      "Epoch 31/50\n",
      "3905/3905 [==============================] - 26s 7ms/step - loss: 0.0156\n",
      "Epoch 32/50\n",
      "3905/3905 [==============================] - 26s 7ms/step - loss: 0.0155\n",
      "Epoch 33/50\n",
      "3905/3905 [==============================] - 26s 7ms/step - loss: 0.0154\n",
      "Epoch 34/50\n",
      "3905/3905 [==============================] - 26s 7ms/step - loss: 0.0154\n",
      "Epoch 35/50\n",
      "3905/3905 [==============================] - 26s 7ms/step - loss: 0.0153\n",
      "Epoch 36/50\n",
      "3905/3905 [==============================] - 26s 7ms/step - loss: 0.0152\n",
      "Epoch 37/50\n",
      "3905/3905 [==============================] - 26s 7ms/step - loss: 0.0151\n",
      "Epoch 38/50\n",
      "3905/3905 [==============================] - 26s 7ms/step - loss: 0.0150\n",
      "Epoch 39/50\n",
      "3905/3905 [==============================] - 26s 7ms/step - loss: 0.0149\n",
      "Epoch 40/50\n",
      "3905/3905 [==============================] - 26s 7ms/step - loss: 0.0149\n",
      "Epoch 41/50\n",
      "3905/3905 [==============================] - 26s 7ms/step - loss: 0.0148\n",
      "Epoch 42/50\n",
      "3905/3905 [==============================] - 26s 7ms/step - loss: 0.0147\n",
      "Epoch 43/50\n",
      "3905/3905 [==============================] - 26s 7ms/step - loss: 0.0147\n",
      "Epoch 44/50\n",
      "3905/3905 [==============================] - 26s 7ms/step - loss: 0.0146\n",
      "Epoch 45/50\n",
      "3905/3905 [==============================] - 26s 7ms/step - loss: 0.0145\n",
      "Epoch 46/50\n",
      "3905/3905 [==============================] - 26s 7ms/step - loss: 0.0146\n",
      "Epoch 47/50\n",
      "3905/3905 [==============================] - 26s 7ms/step - loss: 0.0145\n",
      "Epoch 48/50\n",
      "3905/3905 [==============================] - 26s 7ms/step - loss: 0.0144\n",
      "Epoch 49/50\n",
      "3905/3905 [==============================] - 26s 7ms/step - loss: 0.0144\n",
      "Epoch 50/50\n",
      "3905/3905 [==============================] - 26s 7ms/step - loss: 0.0143\n"
     ]
    }
   ],
   "source": [
    "# fit model\n",
    "history = model.fit(X, y, epochs=50, verbose=1, callbacks=[es, mc], batch_size=128)"
   ]
  },
  {
   "cell_type": "code",
   "execution_count": 42,
   "metadata": {},
   "outputs": [
    {
     "data": {
      "image/png": "[encoded data removed]",
      "text/plain": [
       "<Figure size 432x288 with 1 Axes>"
      ]
     },
     "metadata": {
      "needs_background": "light"
     },
     "output_type": "display_data"
    }
   ],
   "source": [
    "# plot history\n",
    "plt.plot(history.history['loss'], label='train')\n",
    "plt.legend()\n",
    "plt.show()"
   ]
  },
  {
   "cell_type": "code",
   "execution_count": 43,
   "metadata": {},
   "outputs": [],
   "source": [
    "# make a prediction\n",
    "yhat = model.predict(X)"
   ]
  },
  {
   "cell_type": "code",
   "execution_count": 44,
   "metadata": {
    "scrolled": true
   },
   "outputs": [
    {
     "name": "stdout",
     "output_type": "stream",
     "text": [
      "[[[0.08747137 0.2751452 ]\n",
      "  [0.1418506  0.3617277 ]\n",
      "  [0.16632523 0.4080816 ]\n",
      "  ...\n",
      "  [0.04112604 0.25336096]\n",
      "  [0.04828306 0.24764135]\n",
      "  [0.05920977 0.24232736]]\n",
      "\n",
      " [[0.07519403 0.25674474]\n",
      "  [0.13840088 0.3526021 ]\n",
      "  [0.17869635 0.41077137]\n",
      "  ...\n",
      "  [0.04832432 0.24755982]\n",
      "  [0.0592512  0.24223384]\n",
      "  [0.0692502  0.23596156]]\n",
      "\n",
      " [[0.07519563 0.25674736]\n",
      "  [0.13780673 0.351846  ]\n",
      "  [0.1772807  0.4093544 ]\n",
      "  ...\n",
      "  [0.05881758 0.2400811 ]\n",
      "  [0.06886611 0.2337552 ]\n",
      "  [0.07584506 0.22736639]]\n",
      "\n",
      " ...\n",
      "\n",
      " [[0.21281444 0.46446583]\n",
      "  [0.32685038 0.62031394]\n",
      "  [0.43977076 0.7506523 ]\n",
      "  ...\n",
      "  [0.9192605  0.88425314]\n",
      "  [0.99204654 0.93300927]\n",
      "  [0.8943236  0.9410725 ]]\n",
      "\n",
      " [[0.22508793 0.4849002 ]\n",
      "  [0.49481034 0.7751776 ]\n",
      "  [0.5056363  0.82055795]\n",
      "  ...\n",
      "  [0.99303794 0.933391  ]\n",
      "  [0.896058   0.94182825]\n",
      "  [0.7140355  0.9267424 ]]\n",
      "\n",
      " [[0.38651368 0.71109813]\n",
      "  [0.4714879  0.8074022 ]\n",
      "  [0.32782868 0.7608998 ]\n",
      "  ...\n",
      "  [0.90737176 0.9480803 ]\n",
      "  [0.7288321  0.93431884]\n",
      "  [0.59368795 0.93580824]]]\n"
     ]
    }
   ],
   "source": [
    "print(yhat)"
   ]
  },
  {
   "cell_type": "code",
   "execution_count": 48,
   "metadata": {},
   "outputs": [
    {
     "name": "stdout",
     "output_type": "stream",
     "text": [
      "(3905, 100, 2)\n"
     ]
    }
   ],
   "source": [
    "print(yhat.shape)"
   ]
  },
  {
   "cell_type": "code",
   "execution_count": 61,
   "metadata": {},
   "outputs": [],
   "source": [
    "yhat_evaporation = []\n",
    "for i in range(len(yhat)):\n",
    "    vector = []\n",
    "    for j in range(yhat.shape[1]):\n",
    "        vector.append(yhat[i][j][0])\n",
    "    yhat_evaporation.append(vector)\n",
    "    \n",
    "yhat_radiation = []\n",
    "for i in range(len(yhat)):\n",
    "    vector = []\n",
    "    for j in range(yhat.shape[1]):\n",
    "        vector.append(yhat[i][j][1])\n",
    "    yhat_radiation.append(vector)"
   ]
  },
  {
   "cell_type": "code",
   "execution_count": 83,
   "metadata": {},
   "outputs": [
    {
     "name": "stdout",
     "output_type": "stream",
     "text": [
      "(3905, 100)\n"
     ]
    }
   ],
   "source": [
    "print(np.shape(yhat_evaporation))"
   ]
  },
  {
   "cell_type": "code",
   "execution_count": 65,
   "metadata": {},
   "outputs": [],
   "source": [
    "yhat_evaporation_201 = yhat_evaporation[201]\n",
    "yhat_radiation_201 = yhat_radiation[201]\n",
    "yhat_evaporation_201 = np.reshape(yhat_evaporation_201, (-1,1))\n",
    "yhat_radiation_201 = np.reshape(yhat_radiation_201, (-1,1))"
   ]
  },
  {
   "cell_type": "code",
   "execution_count": 67,
   "metadata": {},
   "outputs": [],
   "source": [
    "inv_yhat_evaporation_201 = evaporation_scaler.inverse_transform(yhat_evaporation_201)\n",
    "inv_yhat_radiation_201 = radiation_scaler.inverse_transform(yhat_radiation_201)"
   ]
  },
  {
   "cell_type": "code",
   "execution_count": 70,
   "metadata": {},
   "outputs": [],
   "source": [
    "inv_yhat_201 = hstack((inv_yhat_evaporation_201, inv_yhat_radiation_201))"
   ]
  },
  {
   "cell_type": "code",
   "execution_count": 114,
   "metadata": {},
   "outputs": [
    {
     "name": "stdout",
     "output_type": "stream",
     "text": [
      "Opened txt file\n",
      "Closed txt file\n"
     ]
    }
   ],
   "source": [
    "outputfilename = \"nasa_multivariable_prediction_201_to_300.txt\"\n",
    "\n",
    "output_file = open(outputfilename, \"w\")\n",
    "\n",
    "print(\"Opened txt file\")\n",
    "\n",
    "for i in range(len(inv_yhat_201)):\n",
    "    #print(i, end='\\r')\n",
    "    entry = str(inv_yhat_201[i][0]) + \"\\t\" + str(inv_yhat_201[i][1]) + \"\\n\"\n",
    "    output_file.write(entry)\n",
    "\n",
    "print(\"Closed txt file\")"
   ]
  },
  {
   "cell_type": "code",
   "execution_count": 106,
   "metadata": {},
   "outputs": [],
   "source": [
    "inv_yhat_1 = []\n",
    "for i in range(len(full_dataset_scaled) - n_steps_in - n_steps_out + 1):\n",
    "    array = []\n",
    "    inv_evap = evaporation_scaler.inverse_transform(np.reshape(yhat_evaporation[i], (-1,1)))\n",
    "    array.append(inv_evap[0][0])\n",
    "    inv_radi = radiation_scaler.inverse_transform(np.reshape(yhat_radiation[i], (-1,1)))\n",
    "    array.append(inv_radi[0][0])\n",
    "    inv_yhat_1.append(array)\n",
    "#yhat_1 = np.reshape(yhat_1, (-1,1))\n",
    "#inv_yhat_1 = data_scaler.inverse_transform(yhat_1)"
   ]
  },
  {
   "cell_type": "code",
   "execution_count": 112,
   "metadata": {},
   "outputs": [
    {
     "name": "stdout",
     "output_type": "stream",
     "text": [
      "237.3749\n"
     ]
    }
   ],
   "source": [
    "print(inv_yhat_1[0][1])"
   ]
  },
  {
   "cell_type": "code",
   "execution_count": 116,
   "metadata": {},
   "outputs": [
    {
     "name": "stdout",
     "output_type": "stream",
     "text": [
      "Opened txt file\n",
      "Closed txt file\n"
     ]
    }
   ],
   "source": [
    "outputfilename = \"nasa_multivariable_prediction_full.txt\"\n",
    "\n",
    "output_file = open(outputfilename, \"w\")\n",
    "\n",
    "print(\"Opened txt file\")\n",
    "\n",
    "for i in range(len(inv_yhat_1)):\n",
    "    #print(i, end='\\r')\n",
    "    entry = str(inv_yhat_1[i][0]) + \"\\t\" + str(inv_yhat_1[i][1]) + \"\\n\"\n",
    "    output_file.write(entry)\n",
    "\n",
    "print(\"Closed txt file\")"
   ]
  },
  {
   "cell_type": "code",
   "execution_count": null,
   "metadata": {},
   "outputs": [],
   "source": []
  }
 ],
 "metadata": {
  "kernelspec": {
   "display_name": "Python 3",
   "language": "python",
   "name": "python3"
  },
  "language_info": {
   "codemirror_mode": {
    "name": "ipython",
    "version": 3
   },
   "file_extension": ".py",
   "mimetype": "text/x-python",
   "name": "python",
   "nbconvert_exporter": "python",
   "pygments_lexer": "ipython3",
   "version": "3.7.6"
  }
 },
 "nbformat": 4,
 "nbformat_minor": 4
}
