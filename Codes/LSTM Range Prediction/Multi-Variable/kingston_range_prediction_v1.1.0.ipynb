{
 "cells": [
  {
   "cell_type": "markdown",
   "metadata": {},
   "source": [
    "Initial test of LSTM range prediction, based off: https://machinelearningmastery.com/how-to-develop-lstm-models-for-time-series-forecasting/ "
   ]
  },
  {
   "cell_type": "markdown",
   "metadata": {},
   "source": [
    "### Version History:\n",
    "- 1.0.0 - building off of vapor fraction v.1.0.3 with a different dataset.\n",
    "- 1.1.0 - using pre-trained models to predict. saving predicted vectors to text."
   ]
  },
  {
   "cell_type": "code",
   "execution_count": 1,
   "metadata": {},
   "outputs": [
    {
     "name": "stderr",
     "output_type": "stream",
     "text": [
      "Using TensorFlow backend.\n"
     ]
    }
   ],
   "source": [
    "import os\n",
    "import pandas\n",
    "import matplotlib.pyplot as plt\n",
    "import numpy\n",
    "from numpy import array\n",
    "import math\n",
    "from keras.models import Sequential\n",
    "from keras.layers import Dense\n",
    "from keras.layers import LSTM\n",
    "from keras.layers import Flatten\n",
    "from keras.models import load_model\n",
    "from keras.callbacks import EarlyStopping\n",
    "from sklearn.preprocessing import MinMaxScaler\n",
    "from sklearn.metrics import mean_squared_error"
   ]
  },
  {
   "cell_type": "code",
   "execution_count": 73,
   "metadata": {},
   "outputs": [],
   "source": [
    "def load_col(excelfile, col, process):\n",
    "    dataset = pandas.read_excel(excelfile, sep='\\t',\n",
    "                               header=None,usecols=[col])\n",
    "    if process==True:\n",
    "        dataset = dataset.values[2:]\n",
    "        dataset = dataset.astype('float32')\n",
    "        scaler = MinMaxScaler(feature_range=(0,1))\n",
    "        dataset = scaler.fit_transform(dataset)\n",
    "        return dataset, scaler\n",
    "    else:\n",
    "        dataset = dataset.values[2:]\n",
    "        dataset = dataset.astype('float32')\n",
    "        return dataset"
   ]
  },
  {
   "cell_type": "code",
   "execution_count": 4,
   "metadata": {},
   "outputs": [],
   "source": [
    "def split_sequence(sequence, n_steps_in, n_steps_out):\n",
    "    X, y = list(), list()\n",
    "    for i in range(len(sequence)):\n",
    "        # Finding the end of the pattern\n",
    "        end_ix = i + n_steps_in\n",
    "        out_end_ix = end_ix + n_steps_out\n",
    "        \n",
    "        # Checking if we are beyond the sequence\n",
    "        if out_end_ix > len(sequence):\n",
    "            break\n",
    "            \n",
    "        # Gather input and output parts of pattern\n",
    "        seq_x, seq_y = sequence[i:end_ix], sequence[end_ix: out_end_ix]\n",
    "        X.append(seq_x)\n",
    "        y.append(seq_y)\n",
    "    return array(X), array(y)"
   ]
  },
  {
   "cell_type": "code",
   "execution_count": 5,
   "metadata": {},
   "outputs": [],
   "source": [
    "def load_model_results(dataset, n_steps_in, n_steps_out, model_file, plot):\n",
    "    model = load_model(model_file)\n",
    "    \n",
    "    X_dataset, y_dataset = split_sequence(dataset, n_steps_in, n_steps_out)\n",
    "    y_dataset = y_dataset.reshape((y_dataset.shape[0], y_dataset.shape[1]))  \n",
    "    \n",
    "    y_dataset_hat = model.predict(X_dataset)\n",
    "    \n",
    "    y_dataset_hat_1 = []\n",
    "    for i in range(len(dataset) - n_steps_in - n_steps_out + 1):\n",
    "        y_dataset_hat_1.append(y_dataset_hat[i][0])\n",
    "        \n",
    "    cut = n_steps_in-1\n",
    "    dataset_cut = dataset[cut:-n_steps_out]\n",
    "    \n",
    "    if plot==True:\n",
    "        plt.figure(figsize=(20,7))\n",
    "        plt.rcParams[\"font.family\"] = \"Arial\"\n",
    "        plt.rcParams.update({'font.size': 22})\n",
    "        plt.rcParams['axes.xmargin'] = 0\n",
    "        plt.plot(dataset_cut, label='Original', color='blue');\n",
    "        plt.plot(y_dataset_hat_1, label='Prediction', color='red', linestyle='--');\n",
    "        plt.legend();\n",
    "        plot_title = \"Kingston Mass Flux Prediction, \" + str(n_steps_in) + \" In, \" + str(n_steps_out) + \" Out\"\n",
    "        plt.title(plot_title)\n",
    "        plt.xlabel('Timestep',fontsize='24');\n",
    "        plt.ylabel('Mass Flux',fontsize='24');\n",
    "        plot_name = \"mass_flux_prediction_overlay_\" + str(n_steps_in) + \"in_\" + str(n_steps_out) + \"out_edited.png\"\n",
    "        #plt.savefig(plot_name)\n",
    "    elif plot==False:\n",
    "        pass\n",
    "    \n",
    "    error = math.sqrt(mean_squared_error(y_dataset_hat_1, dataset_cut))\n",
    "    print(\"{:.2f}\".format(error*100) + \"%\")\n",
    "    \n",
    "    return error"
   ]
  },
  {
   "cell_type": "code",
   "execution_count": 6,
   "metadata": {},
   "outputs": [],
   "source": [
    "def save_original_preds_text(original, preds, start_idx, outputfilename):\n",
    "\n",
    "    input_vector_length = numpy.shape(original)[1]\n",
    "    output_vector_length = numpy.shape(preds)[1]\n",
    "    \n",
    "    output_file = open(outputfilename, \"w\")\n",
    "\n",
    "    print(\"Opened txt file\")\n",
    "\n",
    "    header = \"original \" + str(start_idx) + \" to \" + str(start_idx+input_vector_length) + \"\\n\"\n",
    "    output_file.write(header)\n",
    "    for i in range(input_vector_length):\n",
    "        entry = str(original[start_idx][i]) + \"\\n\"\n",
    "        output_file.write(entry)\n",
    "    \n",
    "    output_file.write(\"\\n\")\n",
    "    \n",
    "    header = \"original \" + str(start_idx+input_vector_length+1) + \" to \" + str(start_idx+input_vector_length+output_vector_length+1) + \"\\n\"\n",
    "    output_file.write(header)\n",
    "    for i in range(output_vector_length):\n",
    "        entry = str(original[start_idx+input_vector_length+1][i]) + \"\\n\"\n",
    "        output_file.write(entry)\n",
    "        \n",
    "    output_file.write(\"\\n\")\n",
    "    \n",
    "    header = \"predicted \" + str(start_idx+input_vector_length+1) + \" to \" + str(start_idx+input_vector_length+output_vector_length+1) + \"\\n\"\n",
    "    output_file.write(header)\n",
    "    for i in range(output_vector_length):\n",
    "        entry = str(preds[start_idx+input_vector_length+1][i]) + \"\\n\"\n",
    "        output_file.write(entry)\n",
    "\n",
    "    print(\"Closed txt file\")"
   ]
  },
  {
   "cell_type": "code",
   "execution_count": null,
   "metadata": {},
   "outputs": [],
   "source": [
    "def save_original_preds_text_short(original, preds, start_idx, outputfilename):\n",
    "\n",
    "    check_original = []\n",
    "    check_pred = []\n",
    "    \n",
    "    input_vector_length = numpy.shape(original)[1]\n",
    "    output_vector_length = numpy.shape(preds)[1]\n",
    "    \n",
    "    output_file = open(outputfilename, \"w\")\n",
    "\n",
    "    print(\"Opened txt file\")\n",
    "    \n",
    "    for i in range(output_vector_length):\n",
    "        check_original.append(original[start_idx+i][0])\n",
    "        \n",
    "    for i in range(output_vector_length):\n",
    "        check_pred.append(preds[start_idx-input_vector_length][i])\n",
    "        entry = str(preds[start_idx-100][i]) + \"\\n\"\n",
    "        output_file.write(entry)\n",
    "\n",
    "    print(\"Closed txt file\")\n",
    "    \n",
    "    return check_original, check_pred"
   ]
  },
  {
   "cell_type": "code",
   "execution_count": 9,
   "metadata": {},
   "outputs": [
    {
     "data": {
      "text/plain": [
       "(30000, 1)"
      ]
     },
     "execution_count": 9,
     "metadata": {},
     "output_type": "execute_result"
    }
   ],
   "source": [
    "pressure_array, pressure_scaler = load_col('2018_Kingston et al._IJMF Part 2_Figure 5 Data Set.xlsx', 1, True)\n",
    "pressure_array.shape"
   ]
  },
  {
   "cell_type": "code",
   "execution_count": 78,
   "metadata": {},
   "outputs": [
    {
     "data": {
      "text/plain": [
       "(30000, 1)"
      ]
     },
     "execution_count": 78,
     "metadata": {},
     "output_type": "execute_result"
    }
   ],
   "source": [
    "pressure_absolute = load_col('2018_Kingston et al._IJMF Part 2_Figure 5 Data Set.xlsx', 1, False)\n",
    "pressure_absolute.shape"
   ]
  },
  {
   "cell_type": "code",
   "execution_count": 12,
   "metadata": {},
   "outputs": [
    {
     "data": {
      "image/png": "[encoded data removed]",
      "text/plain": [
       "<Figure size 432x288 with 1 Axes>"
      ]
     },
     "metadata": {
      "needs_background": "light"
     },
     "output_type": "display_data"
    }
   ],
   "source": [
    "plt.plot(pressure_array)\n",
    "plt.show()"
   ]
  },
  {
   "cell_type": "markdown",
   "metadata": {},
   "source": [
    "Function to split dataset into vectors."
   ]
  },
  {
   "cell_type": "markdown",
   "metadata": {},
   "source": [
    "Beginning the preparation for LSTM."
   ]
  },
  {
   "cell_type": "code",
   "execution_count": 13,
   "metadata": {},
   "outputs": [
    {
     "name": "stdout",
     "output_type": "stream",
     "text": [
      "(30000, 1)\n",
      "(28501, 1000, 1) (28501, 500, 1)\n"
     ]
    }
   ],
   "source": [
    "# Fix random seed for reproducibility\n",
    "numpy.random.seed(7)\n",
    "\n",
    "print(pressure_array.shape)\n",
    "# Splitting temperature data into vectors of size 100 and 50\n",
    "n_steps_in, n_steps_out = 1000, 500\n",
    "X_dataset, y_dataset = split_sequence(pressure_array, n_steps_in, n_steps_out)\n",
    "print(X_dataset.shape, y_dataset.shape)"
   ]
  },
  {
   "cell_type": "code",
   "execution_count": 79,
   "metadata": {},
   "outputs": [
    {
     "name": "stdout",
     "output_type": "stream",
     "text": [
      "(28501, 1000, 1) (28501, 500, 1)\n"
     ]
    }
   ],
   "source": [
    "n_steps_in, n_steps_out = 1000, 500\n",
    "X_dataset_absolute, y_dataset_absolute = split_sequence(pressure_absolute, n_steps_in, n_steps_out)\n",
    "print(X_dataset_absolute.shape, y_dataset_absolute.shape)"
   ]
  },
  {
   "cell_type": "code",
   "execution_count": 15,
   "metadata": {},
   "outputs": [],
   "source": [
    "extensions = [\".h5\"]\n",
    "L = [f for f in os.listdir() if os.path.splitext(f)[1] in extensions]"
   ]
  },
  {
   "cell_type": "code",
   "execution_count": 16,
   "metadata": {},
   "outputs": [
    {
     "name": "stdout",
     "output_type": "stream",
     "text": [
      "['kingston_mass1250fps.h5', 'kingston_mass2500fps_2000in.h5', 'kingston_mass2500fps_4000in.h5', 'kingston_mass625fps.h5', 'kingston_mass_testmodel_100in_50out.h5', 'kingston_press1250fps.h5', 'kingston_press2500fps_2000in.h5', 'kingston_press2500fps_4000in.h5', 'kingston_press625fps.h5', 'kingston_temp_testmodel_100in_50out.h5', 'lstm_temperature_model.h5']\n"
     ]
    }
   ],
   "source": [
    "print(L)"
   ]
  },
  {
   "cell_type": "code",
   "execution_count": 105,
   "metadata": {},
   "outputs": [
    {
     "name": "stdout",
     "output_type": "stream",
     "text": [
      "kingston_press2500fps_4000in.h5\n"
     ]
    }
   ],
   "source": [
    "print(L[7])"
   ]
  },
  {
   "cell_type": "code",
   "execution_count": 18,
   "metadata": {},
   "outputs": [],
   "source": [
    "model_list = []\n",
    "for model_name in L:\n",
    "    model = load_model(model_name)\n",
    "    model_list.append(model)"
   ]
  },
  {
   "cell_type": "code",
   "execution_count": 14,
   "metadata": {},
   "outputs": [],
   "source": [
    "model = load_model('kingston_mass_testmodel_100in_50out.h5')"
   ]
  },
  {
   "cell_type": "code",
   "execution_count": 20,
   "metadata": {},
   "outputs": [
    {
     "name": "stdout",
     "output_type": "stream",
     "text": [
      "(28501, 1000, 1)\n"
     ]
    }
   ],
   "source": [
    "print(X_dataset.shape)"
   ]
  },
  {
   "cell_type": "code",
   "execution_count": 21,
   "metadata": {},
   "outputs": [
    {
     "name": "stdout",
     "output_type": "stream",
     "text": [
      "<keras.engine.sequential.Sequential object at 0x0000020FE4A90FC8>\n"
     ]
    }
   ],
   "source": [
    "model = model_list[8]\n",
    "print(model)"
   ]
  },
  {
   "cell_type": "code",
   "execution_count": 25,
   "metadata": {},
   "outputs": [
    {
     "name": "stdout",
     "output_type": "stream",
     "text": [
      "28501/28501 [==============================] - 176s 6ms/step\n"
     ]
    }
   ],
   "source": [
    "y_dataset_reshape = y_dataset.reshape((y_dataset.shape[0], y_dataset.shape[1]))  \n",
    "y_dataset_hat = model.predict(X_dataset, verbose=1)"
   ]
  },
  {
   "cell_type": "code",
   "execution_count": 136,
   "metadata": {},
   "outputs": [
    {
     "name": "stderr",
     "output_type": "stream",
     "text": [
      "C:\\Users\\cheo\\AppData\\Local\\Continuum\\anaconda3\\lib\\site-packages\\sklearn\\preprocessing\\_data.py:437: RuntimeWarning: overflow encountered in true_divide\n",
      "  X /= self.scale_\n"
     ]
    }
   ],
   "source": [
    "# Un-scaling the data\n",
    "y_dataset_hat_absolute = numpy.asarray(y_dataset_hat)\n",
    "y_dataset_hat_absolute = pressure_scaler.inverse_transform(y_dataset_hat_absolute)\n",
    "#pressure_absolute = pressure_scaler.inverse_transform(pressure_array)"
   ]
  },
  {
   "cell_type": "code",
   "execution_count": 137,
   "metadata": {},
   "outputs": [
    {
     "data": {
      "image/png": "[encoded data removed]",
      "text/plain": [
       "<Figure size 432x288 with 1 Axes>"
      ]
     },
     "metadata": {
      "needs_background": "light"
     },
     "output_type": "display_data"
    }
   ],
   "source": [
    "plt.plot(pressure_absolute)\n",
    "plt.show()"
   ]
  },
  {
   "cell_type": "code",
   "execution_count": 138,
   "metadata": {},
   "outputs": [
    {
     "data": {
      "text/plain": [
       "[<matplotlib.lines.Line2D at 0x20fabf84d88>]"
      ]
     },
     "execution_count": 138,
     "metadata": {},
     "output_type": "execute_result"
    },
    {
     "data": {
      "image/png": "[encoded data removed]",
      "text/plain": [
       "<Figure size 432x288 with 1 Axes>"
      ]
     },
     "metadata": {
      "needs_background": "light"
     },
     "output_type": "display_data"
    }
   ],
   "source": [
    "a=1000\n",
    "plt.plot(y_dataset_hat[a], color='red')\n",
    "plt.plot(X_dataset[a+1000], color='blue')\n",
    "plt.plot(0)\n",
    "plt.plot(1)\n",
    "#plt.savefig(\"scaled.png\")"
   ]
  },
  {
   "cell_type": "code",
   "execution_count": 139,
   "metadata": {},
   "outputs": [
    {
     "data": {
      "text/plain": [
       "[<matplotlib.lines.Line2D at 0x20fa4770d88>]"
      ]
     },
     "execution_count": 139,
     "metadata": {},
     "output_type": "execute_result"
    },
    {
     "data": {
      "image/png": "[encoded data removed]",
      "text/plain": [
       "<Figure size 432x288 with 1 Axes>"
      ]
     },
     "metadata": {
      "needs_background": "light"
     },
     "output_type": "display_data"
    }
   ],
   "source": [
    "idx = 10000\n",
    "input_vector_length = 1000\n",
    "output_vector_length = 500\n",
    "plt.plot(y_dataset_hat_absolute[idx], color='red')\n",
    "plt.plot(X_dataset_absolute[idx+input_vector_length], color='blue')\n",
    "plt.plot(0)\n",
    "plt.plot(180)\n",
    "#plt.savefig(\"unscaled.png\")"
   ]
  },
  {
   "cell_type": "code",
   "execution_count": 112,
   "metadata": {},
   "outputs": [
    {
     "data": {
      "text/plain": [
       "[<matplotlib.lines.Line2D at 0x20fad746dc8>]"
      ]
     },
     "execution_count": 112,
     "metadata": {},
     "output_type": "execute_result"
    },
    {
     "data": {
      "image/png": "[encoded data removed]",
      "text/plain": [
       "<Figure size 432x288 with 1 Axes>"
      ]
     },
     "metadata": {
      "needs_background": "light"
     },
     "output_type": "display_data"
    }
   ],
   "source": [
    "a=3850\n",
    "plt.plot(y_dataset_hat[a], color='red')\n",
    "plt.plot(X_dataset[a+1000], color='blue')\n",
    "plt.plot(0)\n",
    "plt.plot(1)\n",
    "#plt.savefig(\"scaled.png\")"
   ]
  },
  {
   "cell_type": "code",
   "execution_count": 124,
   "metadata": {},
   "outputs": [],
   "source": [
    "pressure_4000_2000_model = load_model(L[7])"
   ]
  },
  {
   "cell_type": "code",
   "execution_count": 125,
   "metadata": {},
   "outputs": [
    {
     "name": "stdout",
     "output_type": "stream",
     "text": [
      "(24001, 4000, 1) (24001, 2000, 1)\n"
     ]
    }
   ],
   "source": [
    "n_steps_in, n_steps_out = 4000,2000\n",
    "X_dataset_4000, y_dataset_4000 = split_sequence(pressure_array, n_steps_in, n_steps_out)\n",
    "print(X_dataset_4000.shape, y_dataset_2000.shape)"
   ]
  },
  {
   "cell_type": "code",
   "execution_count": 126,
   "metadata": {},
   "outputs": [
    {
     "name": "stdout",
     "output_type": "stream",
     "text": [
      "24001/24001 [==============================] - 549s 23ms/step\n"
     ]
    }
   ],
   "source": [
    "y_dataset_4000_reshape = y_dataset_4000.reshape((y_dataset_4000.shape[0], y_dataset_4000.shape[1]))  \n",
    "y_dataset_hat_4000 = pressure_4000_2000_model.predict(X_dataset_4000, verbose=1)"
   ]
  },
  {
   "cell_type": "code",
   "execution_count": 144,
   "metadata": {},
   "outputs": [
    {
     "data": {
      "image/png": "[encoded data removed]",
      "text/plain": [
       "<Figure size 432x288 with 1 Axes>"
      ]
     },
     "metadata": {
      "needs_background": "light"
     },
     "output_type": "display_data"
    }
   ],
   "source": [
    "a=4000\n",
    "plt.plot(X_dataset_4000[a+4000], color='blue')\n",
    "plt.plot(y_dataset_hat_4000[a], color='red')\n",
    "plt.plot(0)\n",
    "plt.plot(1)\n",
    "plt.savefig(\"scaled_4000.png\")"
   ]
  },
  {
   "cell_type": "code",
   "execution_count": 162,
   "metadata": {},
   "outputs": [],
   "source": [
    "def save_original_preds_text_short(original, preds, start_idx, outputfilename):\n",
    "\n",
    "    check_original = []\n",
    "    check_pred = []\n",
    "    \n",
    "    input_vector_length = numpy.shape(original)[1]\n",
    "    output_vector_length = numpy.shape(preds)[1]\n",
    "    print(input_vector_length)\n",
    "    \n",
    "    output_file = open(outputfilename, \"w\")\n",
    "\n",
    "    print(\"Opened txt file\")\n",
    "    \n",
    "    for i in range(output_vector_length):\n",
    "        check_original.append(original[start_idx+i][0])\n",
    "        \n",
    "    for i in range(output_vector_length):\n",
    "        check_pred.append(preds[start_idx-input_vector_length][i])\n",
    "        entry = str(preds[start_idx-input_vector_length][i]) + \"\\n\"\n",
    "        output_file.write(entry)\n",
    "\n",
    "    print(\"Closed txt file\")\n",
    "    \n",
    "    return check_original, check_pred"
   ]
  },
  {
   "cell_type": "code",
   "execution_count": null,
   "metadata": {},
   "outputs": [],
   "source": [
    "check_original_scaled, check_pred_scaled = save_original_preds_text_short(pressure_array, y_dataset_hat_4000"
   ]
  },
  {
   "cell_type": "code",
   "execution_count": 145,
   "metadata": {},
   "outputs": [],
   "source": [
    "# Un-scaling the data\n",
    "y_dataset_hat_4000_absolute = numpy.asarray(y_dataset_hat_4000)\n",
    "y_dataset_hat_4000_absolute = pressure_scaler.inverse_transform(y_dataset_hat_4000_absolute)\n",
    "#pressure_absolute = pressure_scaler.inverse_transform(pressure_array)"
   ]
  },
  {
   "cell_type": "code",
   "execution_count": 165,
   "metadata": {},
   "outputs": [
    {
     "name": "stdout",
     "output_type": "stream",
     "text": [
      "(24001, 4000, 1) (24001, 2000, 1)\n"
     ]
    }
   ],
   "source": [
    "n_steps_in, n_steps_out = 4000,2000\n",
    "X_dataset_4000_absolute, y_dataset_4000_absolute = split_sequence(pressure_absolute, n_steps_in, n_steps_out)\n",
    "print(X_dataset_4000_absolute.shape, y_dataset_4000_absolute.shape)"
   ]
  },
  {
   "cell_type": "code",
   "execution_count": 171,
   "metadata": {},
   "outputs": [
    {
     "data": {
      "text/plain": [
       "[<matplotlib.lines.Line2D at 0x20f979ce188>]"
      ]
     },
     "execution_count": 171,
     "metadata": {},
     "output_type": "execute_result"
    },
    {
     "data": {
      "image/png": "[encoded data removed]",
      "text/plain": [
       "<Figure size 432x288 with 1 Axes>"
      ]
     },
     "metadata": {
      "needs_background": "light"
     },
     "output_type": "display_data"
    }
   ],
   "source": [
    "plt.plot(y_dataset_hat_4000_absolute[6792])"
   ]
  },
  {
   "cell_type": "code",
   "execution_count": 166,
   "metadata": {},
   "outputs": [
    {
     "name": "stdout",
     "output_type": "stream",
     "text": [
      "4000\n",
      "Opened txt file\n",
      "Closed txt file\n"
     ]
    }
   ],
   "source": [
    "check_original_unscaled, check_pred_unscaled = save_original_preds_text_short(X_dataset_4000_absolute, y_dataset_hat_4000_absolute,\n",
    "                                                                              6792,\"pressure_prediction_P2793to6792.txt\")"
   ]
  },
  {
   "cell_type": "code",
   "execution_count": 169,
   "metadata": {},
   "outputs": [
    {
     "data": {
      "text/plain": [
       "[<matplotlib.lines.Line2D at 0x20fa4616c08>]"
      ]
     },
     "execution_count": 169,
     "metadata": {},
     "output_type": "execute_result"
    },
    {
     "data": {
      "image/png": "[encoded data removed]",
      "text/plain": [
       "<Figure size 432x288 with 1 Axes>"
      ]
     },
     "metadata": {
      "needs_background": "light"
     },
     "output_type": "display_data"
    }
   ],
   "source": [
    "plt.plot(check_pred_unscaled)\n",
    "plt.plot(check_original_unscaled)"
   ]
  },
  {
   "cell_type": "code",
   "execution_count": 172,
   "metadata": {},
   "outputs": [
    {
     "name": "stdout",
     "output_type": "stream",
     "text": [
      "4000\n",
      "Opened txt file\n",
      "Closed txt file\n"
     ]
    }
   ],
   "source": [
    "check_original_unscaled, check_pred_unscaled = save_original_preds_text_short(X_dataset_4000_absolute, y_dataset_hat_4000_absolute,\n",
    "                                                                              6764,\"pressure_prediction_P2765to6764.txt\")"
   ]
  },
  {
   "cell_type": "code",
   "execution_count": 173,
   "metadata": {},
   "outputs": [
    {
     "name": "stdout",
     "output_type": "stream",
     "text": [
      "4000\n",
      "Opened txt file\n",
      "Closed txt file\n"
     ]
    }
   ],
   "source": [
    "check_original_unscaled, check_pred_unscaled = save_original_preds_text_short(X_dataset_4000_absolute, y_dataset_hat_4000_absolute,\n",
    "                                                                              6774,\"pressure_prediction_P2775to6774.txt\")"
   ]
  },
  {
   "cell_type": "code",
   "execution_count": null,
   "metadata": {},
   "outputs": [],
   "source": []
  }
 ],
 "metadata": {
  "kernelspec": {
   "display_name": "Python 3",
   "language": "python",
   "name": "python3"
  },
  "language_info": {
   "codemirror_mode": {
    "name": "ipython",
    "version": 3
   },
   "file_extension": ".py",
   "mimetype": "text/x-python",
   "name": "python",
   "nbconvert_exporter": "python",
   "pygments_lexer": "ipython3",
   "version": "3.7.6"
  }
 },
 "nbformat": 4,
 "nbformat_minor": 2
}
