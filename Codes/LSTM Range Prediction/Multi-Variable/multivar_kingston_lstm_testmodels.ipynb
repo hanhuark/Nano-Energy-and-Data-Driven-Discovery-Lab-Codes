{
 "cells": [
  {
   "cell_type": "markdown",
   "metadata": {},
   "source": [
    "### Code to test single-variable LSTM models trained using NASA weather data."
   ]
  },
  {
   "cell_type": "code",
   "execution_count": 8,
   "metadata": {},
   "outputs": [],
   "source": [
    "import os\n",
    "import pandas as pd\n",
    "import matplotlib.pyplot as plt\n",
    "import numpy as np\n",
    "from numpy import array\n",
    "import math\n",
    "from keras.models import Sequential\n",
    "from keras.layers import Dense\n",
    "from keras.layers import LSTM\n",
    "from keras.layers import Flatten\n",
    "from keras.models import load_model\n",
    "from keras.callbacks import EarlyStopping\n",
    "from sklearn.preprocessing import MinMaxScaler\n",
    "from sklearn.metrics import mean_squared_error"
   ]
  },
  {
   "cell_type": "markdown",
   "metadata": {},
   "source": [
    "3 Variable"
   ]
  },
  {
   "cell_type": "code",
   "execution_count": 12,
   "metadata": {},
   "outputs": [],
   "source": [
    "# Fix random seed for reproducibility\n",
    "np.random.seed(7)\n",
    "\n",
    "def split_sequence(sequence, n_steps_in, n_steps_out):\n",
    "    X, y = list(), list()\n",
    "    for i in range(len(sequence)):\n",
    "        # Finding the end of the pattern\n",
    "        end_ix = i + n_steps_in\n",
    "        out_end_ix = end_ix + n_steps_out\n",
    "        \n",
    "        # Checking if we are beyond the sequence\n",
    "        if out_end_ix > len(sequence):\n",
    "            break\n",
    "            \n",
    "        # Gather input and output parts of pattern\n",
    "        seq_x, seq_y = sequence[i:end_ix], sequence[end_ix: out_end_ix]\n",
    "        X.append(seq_x)\n",
    "        y.append(seq_y)\n",
    "    return array(X), array(y)\n",
    "\n",
    "def load_col(txtfile, col, process):\n",
    "    dataset = pd.read_csv(txtfile, sep='\\t',\n",
    "                               header=None,usecols=col)\n",
    "    if process==True:\n",
    "        #dataset = dataset.values[2:]\n",
    "        dataset = dataset.astype('float32')\n",
    "        scaler = MinMaxScaler(feature_range=(0,1))\n",
    "        dataset = scaler.fit_transform(dataset)\n",
    "        return dataset, scaler\n",
    "    elif process==False:\n",
    "        return dataset"
   ]
  },
  {
   "cell_type": "code",
   "execution_count": 13,
   "metadata": {},
   "outputs": [
    {
     "data": {
      "text/plain": [
       "['.ipynb_checkpoints',\n",
       " 'multivariable_lstm_1.0.0.py',\n",
       " 'multivariable_lstm_2var.slurm',\n",
       " 'multivariable_lstm_3var.slurm',\n",
       " 'multivariable_lstm_example_full_predictions.txt',\n",
       " 'multivariable_lstm_example_full_predictions_no_headers.txt',\n",
       " 'multivariable_lstm_example_matrix.txt',\n",
       " 'multivariable_lstm_example_matrix_3850.txt',\n",
       " 'multivariable_lstm_example_matrix_3850_2.txt',\n",
       " 'multivariate_lstm_1.0.0.ipynb',\n",
       " 'multivariate_lstm_1.0.1.ipynb',\n",
       " 'multivariate_lstm_sample.txt',\n",
       " 'multivar_3var.h5',\n",
       " 'multivar_3var_outfile.txt',\n",
       " 'multivar_kingston_lstm_testmodels.ipynb']"
      ]
     },
     "execution_count": 13,
     "metadata": {},
     "output_type": "execute_result"
    }
   ],
   "source": [
    "os.listdir()"
   ]
  },
  {
   "cell_type": "code",
   "execution_count": 15,
   "metadata": {},
   "outputs": [
    {
     "name": "stdout",
     "output_type": "stream",
     "text": [
      "preparing data...\n",
      "done!\n",
      "loading model...\n",
      "done!\n"
     ]
    }
   ],
   "source": [
    "# Load data from text file with selected columns, scaled to (0,1)\n",
    "F = \"multivariate_lstm_sample.txt\"\n",
    "C = [1, 2, 3]\n",
    "I = 100\n",
    "O = 100 \n",
    "data_array, data_scaler = load_col(F, C, True)\n",
    "#print(data_array[0:10])\n",
    "n_steps_in = I\n",
    "n_steps_out = O\n",
    "dataset = data_array\n",
    "n_features = 1\n",
    "\n",
    "print(\"preparing data...\")\n",
    "X_dataset, y_dataset = split_sequence(data_array, n_steps_in, n_steps_out)\n",
    "#y_dataset = y_dataset.reshape((y_dataset.shape[0], y_dataset.shape[1]))\n",
    "print(\"done!\")\n",
    "\n",
    "print(\"loading model...\")\n",
    "model = load_model(\"multivar_3var.h5\")\n",
    "print(\"done!\")"
   ]
  },
  {
   "cell_type": "code",
   "execution_count": 16,
   "metadata": {},
   "outputs": [
    {
     "name": "stdout",
     "output_type": "stream",
     "text": [
      "(29801, 100, 3) (29801, 100, 3)\n"
     ]
    }
   ],
   "source": [
    "print(X_dataset.shape, y_dataset.shape)"
   ]
  },
  {
   "cell_type": "code",
   "execution_count": 17,
   "metadata": {},
   "outputs": [],
   "source": [
    "yhat = model.predict(X_dataset)"
   ]
  },
  {
   "cell_type": "code",
   "execution_count": 18,
   "metadata": {},
   "outputs": [
    {
     "name": "stdout",
     "output_type": "stream",
     "text": [
      "(29801, 100, 3)\n"
     ]
    }
   ],
   "source": [
    "print(yhat.shape)"
   ]
  },
  {
   "cell_type": "code",
   "execution_count": 37,
   "metadata": {
    "scrolled": true
   },
   "outputs": [],
   "source": [
    "yhat_3751 = yhat[3751]\n",
    "inv_yhat_pressure_3751 = data_scaler.inverse_transform(yhat_3751)"
   ]
  },
  {
   "cell_type": "code",
   "execution_count": 41,
   "metadata": {
    "scrolled": true
   },
   "outputs": [
    {
     "name": "stdout",
     "output_type": "stream",
     "text": [
      "[ 28.576313 109.24033  444.60638 ]\n"
     ]
    }
   ],
   "source": [
    "inv = inv_yhat_pressure_3751\n",
    "print(inv[0])"
   ]
  },
  {
   "cell_type": "code",
   "execution_count": 45,
   "metadata": {},
   "outputs": [
    {
     "name": "stdout",
     "output_type": "stream",
     "text": [
      "Opened txt file\n",
      "Closed txt file\n"
     ]
    }
   ],
   "source": [
    "outputfilename = \"kingston_3var_prediction_3751_to_3850.txt\"\n",
    "\n",
    "output_file = open(outputfilename, \"w\")\n",
    "\n",
    "print(\"Opened txt file\")\n",
    "\n",
    "for i in range(len(inv)):\n",
    "    #print(i, end='\\r')\n",
    "    entry = str(inv[i][0]) + \"\\t\" + str(inv[i][1]) + \"\\t\" + str(inv[i][2]) + \"\\n\"\n",
    "    output_file.write(entry)\n",
    "\n",
    "print(\"Closed txt file\")"
   ]
  },
  {
   "cell_type": "code",
   "execution_count": 52,
   "metadata": {},
   "outputs": [],
   "source": [
    "inv_yhat = []\n",
    "for i in (range(len(yhat))):\n",
    "    array = data_scaler.inverse_transform(yhat[i])\n",
    "    inv_yhat.append(array)"
   ]
  },
  {
   "cell_type": "code",
   "execution_count": 57,
   "metadata": {},
   "outputs": [],
   "source": [
    "inv_yhat_1 = []\n",
    "for i in range(len(data_array) - n_steps_in - n_steps_out + 1):\n",
    "    inv_yhat_1.append(inv_yhat[i][0])"
   ]
  },
  {
   "cell_type": "code",
   "execution_count": 60,
   "metadata": {},
   "outputs": [
    {
     "name": "stdout",
     "output_type": "stream",
     "text": [
      "29801\n"
     ]
    }
   ],
   "source": [
    "print(len(inv_yhat_1))"
   ]
  },
  {
   "cell_type": "code",
   "execution_count": 62,
   "metadata": {},
   "outputs": [
    {
     "name": "stdout",
     "output_type": "stream",
     "text": [
      "Opened txt file\n",
      "Closed txt file\n"
     ]
    }
   ],
   "source": [
    "outputfilename = \"kingston_3var_prediction_full.txt\"\n",
    "\n",
    "output_file = open(outputfilename, \"w\")\n",
    "\n",
    "print(\"Opened txt file\")\n",
    "\n",
    "for i in range(len(inv_yhat_1)):\n",
    "    #print(i, end='\\r')\n",
    "    entry = str(inv_yhat_1[i][0]) + \"\\t\" + str(inv_yhat_1[i][1]) + \"\\t\" + str(inv_yhat_1[i][2]) + \"\\n\"\n",
    "    output_file.write(entry)\n",
    "\n",
    "print(\"Closed txt file\")"
   ]
  },
  {
   "cell_type": "code",
   "execution_count": null,
   "metadata": {},
   "outputs": [],
   "source": []
  }
 ],
 "metadata": {
  "kernelspec": {
   "display_name": "Python 3",
   "language": "python",
   "name": "python3"
  },
  "language_info": {
   "codemirror_mode": {
    "name": "ipython",
    "version": 3
   },
   "file_extension": ".py",
   "mimetype": "text/x-python",
   "name": "python",
   "nbconvert_exporter": "python",
   "pygments_lexer": "ipython3",
   "version": "3.7.6"
  }
 },
 "nbformat": 4,
 "nbformat_minor": 4
}
