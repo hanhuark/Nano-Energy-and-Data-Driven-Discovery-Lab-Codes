{
 "cells": [
  {
   "cell_type": "markdown",
   "metadata": {},
   "source": [
    "### Note: Place code in directory, with the folder for images and a folder for output files on the same level."
   ]
  },
  {
   "cell_type": "markdown",
   "metadata": {},
   "source": [
    "Version History:\n",
    "- v1.0.0: Added fucntions to automatically split training, testing, and validation. Trains, tests, and gives confusion matrix, but no post-processing (e.g. attention maps)"
   ]
  },
  {
   "cell_type": "code",
   "execution_count": 70,
   "metadata": {},
   "outputs": [
    {
     "name": "stdout",
     "output_type": "stream",
     "text": [
      "All loaded!\n"
     ]
    }
   ],
   "source": [
    "# Importing modules to build, train, and test model\n",
    "import os\n",
    "import stat\n",
    "import matplotlib\n",
    "from matplotlib import pyplot as plt\n",
    "from matplotlib.pyplot import figure\n",
    "import matplotlib.image as mpimg\n",
    "import matplotlib.ticker as mtick\n",
    "import numpy as np\n",
    "import imageio as im\n",
    "import tensorflow as tf\n",
    "from tensorflow import keras\n",
    "from keras.models import Sequential\n",
    "from keras.layers import Conv2D\n",
    "from keras.layers import MaxPooling2D\n",
    "from keras.layers import Flatten\n",
    "from keras.layers import Dense\n",
    "from keras.layers import Dropout\n",
    "from keras.preprocessing import image\n",
    "from keras.preprocessing.image import ImageDataGenerator\n",
    "from keras.preprocessing.image import img_to_array\n",
    "from keras.callbacks import ModelCheckpoint, EarlyStopping\n",
    "import math\n",
    "import PIL\n",
    "from PIL import Image\n",
    "\n",
    "# Importing modules to build heatmap\n",
    "from keras.applications.inception_v3 import InceptionV3,preprocess_input,decode_predictions\n",
    "from keras.layers import Input\n",
    "from keras import activations\n",
    "from keras.models import load_model\n",
    "from keras.layers import GlobalAveragePooling2D\n",
    "from keras import initializers\n",
    "from keras.models import Model\n",
    "import matplotlib.cm as cm\n",
    "import random\n",
    "\n",
    "from tensorflow.keras.applications import imagenet_utils\n",
    "import h5py\n",
    "\n",
    "from vis.visualization import overlay,visualize_cam,visualize_activation,visualize_saliency\n",
    "from vis.utils import utils\n",
    "\n",
    "import imageio\n",
    "import time\n",
    "import ntpath\n",
    "import seaborn as sns\n",
    "from sklearn.model_selection import train_test_split\n",
    "from sklearn.metrics import classification_report, confusion_matrix\n",
    "\n",
    "print(\"All loaded!\")"
   ]
  },
  {
   "cell_type": "markdown",
   "metadata": {},
   "source": [
    "Importing modules to find image files, convert to usable image data, and build the CNN.\n",
    "#  "
   ]
  },
  {
   "cell_type": "code",
   "execution_count": 79,
   "metadata": {},
   "outputs": [],
   "source": [
    "# Clearing the memory for a fresh start and prevention of slowdown\n",
    "tf.keras.backend.clear_session()"
   ]
  },
  {
   "cell_type": "code",
   "execution_count": 80,
   "metadata": {},
   "outputs": [],
   "source": [
    "# Defining directories to make easier to reference later on:\n",
    "\n",
    "cwd = os.getcwd()\n",
    "training_dir = cwd + \"\\jpg_split\\\\train\"\n",
    "testing_dir = cwd + \"\\jpg_split\\\\test\"\n",
    "validation_dir = cwd + \"\\jpg_split\\\\val\"\n",
    "output_dir = cwd + \"\\output\"\n",
    "weights_dir = '\\outputs\\\\boiling_weights.hdf5'\n",
    "classifier_dir = cwd + \"\\outputs\\\\boiling_model.h5\"\n",
    "#output_dir = \"/images\""
   ]
  },
  {
   "cell_type": "code",
   "execution_count": 81,
   "metadata": {},
   "outputs": [
    {
     "name": "stdout",
     "output_type": "stream",
     "text": [
      "Found 9746 images belonging to 3 classes.\n",
      "Found 3048 images belonging to 3 classes.\n",
      "Found 2435 images belonging to 3 classes.\n"
     ]
    }
   ],
   "source": [
    "# Creating (and downscaling) the location for the image data to be stored\n",
    "train_datagen = ImageDataGenerator(rescale = 1./255)\n",
    "test_datagen = ImageDataGenerator(rescale = 1./255)\n",
    "val_datagen = ImageDataGenerator(rescale = 1./255)\n",
    "\n",
    "# Setting the image/batch parameters to change easily if need be\n",
    "# Certain parameters later on typically depend on these values\n",
    "image_width = 128\n",
    "image_height = 128\n",
    "batch_size = 25\n",
    "\n",
    "# Taking in the image data from a given directory\n",
    "# The classes are automatically set based on how the folders are arranged\n",
    "training_set = train_datagen.flow_from_directory(training_dir,\n",
    "                                                 target_size = (image_width, image_height),\n",
    "                                                 batch_size = batch_size,\n",
    "                                                 class_mode = 'categorical')\n",
    "\n",
    "test_set = test_datagen.flow_from_directory(testing_dir,\n",
    "                                            target_size = (image_width, image_height),\n",
    "                                            batch_size = 1,\n",
    "                                            shuffle=False,\n",
    "                                            class_mode = 'categorical')\n",
    "\n",
    "validation_set = val_datagen.flow_from_directory(validation_dir,\n",
    "                                                 target_size = (image_width, image_height),\n",
    "                                                 batch_size = batch_size,\n",
    "                                                 shuffle=True,\n",
    "                                                 class_mode = 'categorical')"
   ]
  },
  {
   "cell_type": "code",
   "execution_count": 82,
   "metadata": {},
   "outputs": [],
   "source": [
    "classifier = Sequential()\n",
    "\n",
    "# Adding the first convolutional layer\n",
    "classifier.add(Conv2D(32, (3, 3), padding='same', input_shape = (128, 128, 3), activation = 'relu'))\n",
    "classifier.add(Conv2D(32, (3, 3), activation='relu'))\n",
    "classifier.add(MaxPooling2D(pool_size=(2, 2)))\n",
    "classifier.add(Dropout(0.5)) # antes era 0.25\n",
    "\n",
    "# Adding a second convolutional layer\n",
    "classifier.add(Conv2D(64, (3, 3), padding='same', activation = 'relu'))\n",
    "classifier.add(Conv2D(64, (3, 3), activation='relu'))\n",
    "classifier.add(MaxPooling2D(pool_size=(2, 2)))\n",
    "classifier.add(Dropout(0.5)) # antes era 0.25\n",
    "\n",
    "# Adding a third convolutional layer\n",
    "classifier.add(Conv2D(64, (3, 3), padding='same', activation = 'relu'))\n",
    "classifier.add(Conv2D(64, (3, 3), activation='relu'))\n",
    "classifier.add(MaxPooling2D(pool_size=(2, 2)))\n",
    "classifier.add(Dropout(0.5)) # antes era 0.25\n",
    "\n",
    "# Step 3 - Flattening\n",
    "classifier.add(Flatten())\n",
    "\n",
    "# Step 4 - Full connection\n",
    "classifier.add(Dense(units = 512, activation = 'relu'))\n",
    "classifier.add(Dropout(0.5)) \n",
    "classifier.add(Dense(units = 3, activation = 'softmax', name='visualized_layer')) \n",
    "                     # Note that the units here should\n",
    "                     # be equal to number of classes"
   ]
  },
  {
   "cell_type": "code",
   "execution_count": 83,
   "metadata": {},
   "outputs": [
    {
     "name": "stdout",
     "output_type": "stream",
     "text": [
      "Model: \"sequential_1\"\n",
      "_________________________________________________________________\n",
      "Layer (type)                 Output Shape              Param #   \n",
      "=================================================================\n",
      "conv2d_1 (Conv2D)            (None, 128, 128, 32)      896       \n",
      "_________________________________________________________________\n",
      "conv2d_2 (Conv2D)            (None, 126, 126, 32)      9248      \n",
      "_________________________________________________________________\n",
      "max_pooling2d_1 (MaxPooling2 (None, 63, 63, 32)        0         \n",
      "_________________________________________________________________\n",
      "dropout_1 (Dropout)          (None, 63, 63, 32)        0         \n",
      "_________________________________________________________________\n",
      "conv2d_3 (Conv2D)            (None, 63, 63, 64)        18496     \n",
      "_________________________________________________________________\n",
      "conv2d_4 (Conv2D)            (None, 61, 61, 64)        36928     \n",
      "_________________________________________________________________\n",
      "max_pooling2d_2 (MaxPooling2 (None, 30, 30, 64)        0         \n",
      "_________________________________________________________________\n",
      "dropout_2 (Dropout)          (None, 30, 30, 64)        0         \n",
      "_________________________________________________________________\n",
      "conv2d_5 (Conv2D)            (None, 30, 30, 64)        36928     \n",
      "_________________________________________________________________\n",
      "conv2d_6 (Conv2D)            (None, 28, 28, 64)        36928     \n",
      "_________________________________________________________________\n",
      "max_pooling2d_3 (MaxPooling2 (None, 14, 14, 64)        0         \n",
      "_________________________________________________________________\n",
      "dropout_3 (Dropout)          (None, 14, 14, 64)        0         \n",
      "_________________________________________________________________\n",
      "flatten_1 (Flatten)          (None, 12544)             0         \n",
      "_________________________________________________________________\n",
      "dense_1 (Dense)              (None, 512)               6423040   \n",
      "_________________________________________________________________\n",
      "dropout_4 (Dropout)          (None, 512)               0         \n",
      "_________________________________________________________________\n",
      "visualized_layer (Dense)     (None, 3)                 1539      \n",
      "=================================================================\n",
      "Total params: 6,564,003\n",
      "Trainable params: 6,564,003\n",
      "Non-trainable params: 0\n",
      "_________________________________________________________________\n"
     ]
    }
   ],
   "source": [
    "# Simply prints an overview of the model\n",
    "classifier.summary()"
   ]
  },
  {
   "cell_type": "code",
   "execution_count": 84,
   "metadata": {},
   "outputs": [],
   "source": [
    "classifier.compile(optimizer = 'rmsprop',\n",
    "                   loss = 'categorical_crossentropy',\n",
    "                   metrics = ['accuracy'])"
   ]
  },
  {
   "cell_type": "code",
   "execution_count": 86,
   "metadata": {},
   "outputs": [],
   "source": [
    "# Setting up a checkpoint such that after every cycle of the CNN, \n",
    "# the best parameters (weights) will be saved\n",
    "checkpointer = ModelCheckpoint(filepath=\"cnn_boiling_1.0.0.hdf5\", \n",
    "                               monitor = 'loss',\n",
    "                               verbose=1, \n",
    "                               save_best_only=True)\n",
    "\n",
    "# Prepare callback for training time.\n",
    "class TimeHistory(keras.callbacks.Callback):\n",
    "    def on_train_begin(self, logs={}):\n",
    "        self.times=[]\n",
    "    def on_epoch_begin(self, batch, logs={}):\n",
    "        self.epoch_time_start=time.time()\n",
    "    def on_epoch_end(self, batch, logs={}):\n",
    "        self.times.append(time.time() - self.epoch_time_start)\n",
    "\n",
    "time_callback = TimeHistory()\n",
    "earlystop = EarlyStopping(patience=7)\n",
    "callbacks = [checkpointer, time_callback]"
   ]
  },
  {
   "cell_type": "code",
   "execution_count": 87,
   "metadata": {},
   "outputs": [
    {
     "name": "stdout",
     "output_type": "stream",
     "text": [
      "Epoch 1/25\n",
      "390/390 [==============================] - 342s 877ms/step - loss: 0.2433 - accuracy: 0.9342 - val_loss: 1.1086e-06 - val_accuracy: 0.9975\n",
      "\n",
      "Epoch 00001: loss improved from inf to 0.24326, saving model to cnn_boiling_1.0.0.hdf5\n",
      "Epoch 2/25\n",
      "390/390 [==============================] - 327s 839ms/step - loss: 0.0231 - accuracy: 0.9935 - val_loss: 1.1921e-08 - val_accuracy: 0.9979\n",
      "\n",
      "Epoch 00002: loss improved from 0.24326 to 0.02308, saving model to cnn_boiling_1.0.0.hdf5\n",
      "Epoch 3/25\n",
      "390/390 [==============================] - 327s 838ms/step - loss: 0.0344 - accuracy: 0.9960 - val_loss: 1.2469e-05 - val_accuracy: 0.9996\n",
      "\n",
      "Epoch 00003: loss did not improve from 0.02308\n",
      "Epoch 4/25\n",
      "390/390 [==============================] - 327s 838ms/step - loss: 0.0125 - accuracy: 0.9978 - val_loss: 0.0000e+00 - val_accuracy: 0.9996\n",
      "\n",
      "Epoch 00004: loss improved from 0.02308 to 0.01253, saving model to cnn_boiling_1.0.0.hdf5\n",
      "Epoch 5/25\n",
      "390/390 [==============================] - 326s 837ms/step - loss: 0.0063 - accuracy: 0.9991 - val_loss: 0.0000e+00 - val_accuracy: 1.0000\n",
      "\n",
      "Epoch 00005: loss improved from 0.01253 to 0.00626, saving model to cnn_boiling_1.0.0.hdf5\n",
      "Epoch 6/25\n",
      "390/390 [==============================] - 340s 872ms/step - loss: 0.0143 - accuracy: 0.9988 - val_loss: 0.0000e+00 - val_accuracy: 1.0000\n",
      "\n",
      "Epoch 00006: loss did not improve from 0.00626\n",
      "Epoch 7/25\n",
      "390/390 [==============================] - 327s 839ms/step - loss: 0.0048 - accuracy: 0.9993 - val_loss: 0.0000e+00 - val_accuracy: 1.0000\n",
      "\n",
      "Epoch 00007: loss improved from 0.00626 to 0.00482, saving model to cnn_boiling_1.0.0.hdf5\n",
      "Epoch 8/25\n",
      "390/390 [==============================] - 327s 838ms/step - loss: 0.0067 - accuracy: 0.9991 - val_loss: 0.0000e+00 - val_accuracy: 1.0000\n",
      "\n",
      "Epoch 00008: loss did not improve from 0.00482\n",
      "Epoch 9/25\n",
      "390/390 [==============================] - 327s 838ms/step - loss: 0.0061 - accuracy: 0.9994 - val_loss: 0.0000e+00 - val_accuracy: 1.0000\n",
      "\n",
      "Epoch 00009: loss did not improve from 0.00482\n",
      "Epoch 10/25\n",
      "390/390 [==============================] - 327s 839ms/step - loss: 7.4276e-05 - accuracy: 0.9999 - val_loss: 0.0000e+00 - val_accuracy: 1.0000\n",
      "\n",
      "Epoch 00010: loss improved from 0.00482 to 0.00007, saving model to cnn_boiling_1.0.0.hdf5\n",
      "Epoch 11/25\n",
      "390/390 [==============================] - 326s 837ms/step - loss: 0.0040 - accuracy: 0.9994 - val_loss: 0.0000e+00 - val_accuracy: 1.0000\n",
      "\n",
      "Epoch 00011: loss did not improve from 0.00007\n",
      "Epoch 12/25\n",
      "390/390 [==============================] - 327s 837ms/step - loss: 1.2969e-04 - accuracy: 1.0000 - val_loss: 0.0000e+00 - val_accuracy: 0.9996\n",
      "\n",
      "Epoch 00012: loss did not improve from 0.00007\n",
      "Epoch 13/25\n",
      "390/390 [==============================] - 326s 837ms/step - loss: 0.0038 - accuracy: 0.9998 - val_loss: 0.0000e+00 - val_accuracy: 1.0000\n",
      "\n",
      "Epoch 00013: loss did not improve from 0.00007\n",
      "Epoch 14/25\n",
      "390/390 [==============================] - 326s 836ms/step - loss: 3.6140e-07 - accuracy: 1.0000 - val_loss: 0.0000e+00 - val_accuracy: 0.9996\n",
      "\n",
      "Epoch 00014: loss improved from 0.00007 to 0.00000, saving model to cnn_boiling_1.0.0.hdf5\n",
      "Epoch 15/25\n",
      "390/390 [==============================] - 326s 835ms/step - loss: 0.0026 - accuracy: 0.9997 - val_loss: 0.0000e+00 - val_accuracy: 1.0000\n",
      "\n",
      "Epoch 00015: loss did not improve from 0.00000\n",
      "Epoch 16/25\n",
      "390/390 [==============================] - 326s 836ms/step - loss: 0.0027 - accuracy: 0.9995 - val_loss: 0.0000e+00 - val_accuracy: 0.9992\n",
      "\n",
      "Epoch 00016: loss did not improve from 0.00000\n",
      "Epoch 17/25\n",
      "390/390 [==============================] - 341s 873ms/step - loss: 0.0096 - accuracy: 0.9996 - val_loss: 0.0000e+00 - val_accuracy: 1.0000\n",
      "\n",
      "Epoch 00017: loss did not improve from 0.00000\n",
      "Epoch 18/25\n",
      "390/390 [==============================] - 328s 841ms/step - loss: 0.0067 - accuracy: 0.9995 - val_loss: 0.0000e+00 - val_accuracy: 1.0000\n",
      "\n",
      "Epoch 00018: loss did not improve from 0.00000\n",
      "Epoch 19/25\n",
      "390/390 [==============================] - 327s 838ms/step - loss: 0.0055 - accuracy: 0.9998 - val_loss: 0.0000e+00 - val_accuracy: 0.9996\n",
      "\n",
      "Epoch 00019: loss did not improve from 0.00000\n",
      "Epoch 20/25\n",
      "390/390 [==============================] - 327s 839ms/step - loss: 0.0020 - accuracy: 0.9998 - val_loss: 0.0000e+00 - val_accuracy: 1.0000\n",
      "\n",
      "Epoch 00020: loss did not improve from 0.00000\n",
      "Epoch 21/25\n",
      "390/390 [==============================] - 327s 838ms/step - loss: 2.6287e-05 - accuracy: 1.0000 - val_loss: 0.0000e+00 - val_accuracy: 0.9996\n",
      "\n",
      "Epoch 00021: loss did not improve from 0.00000\n",
      "Epoch 22/25\n",
      "390/390 [==============================] - 326s 837ms/step - loss: 8.4681e-04 - accuracy: 0.9997 - val_loss: 0.0000e+00 - val_accuracy: 1.0000\n",
      "\n",
      "Epoch 00022: loss did not improve from 0.00000\n",
      "Epoch 23/25\n",
      "390/390 [==============================] - 326s 836ms/step - loss: 0.0031 - accuracy: 0.9998 - val_loss: 0.0000e+00 - val_accuracy: 1.0000\n",
      "\n",
      "Epoch 00023: loss did not improve from 0.00000\n",
      "Epoch 24/25\n",
      "390/390 [==============================] - 326s 837ms/step - loss: 0.0000e+00 - accuracy: 1.0000 - val_loss: 0.0000e+00 - val_accuracy: 1.0000\n",
      "\n",
      "Epoch 00024: loss improved from 0.00000 to 0.00000, saving model to cnn_boiling_1.0.0.hdf5\n",
      "Epoch 25/25\n",
      "390/390 [==============================] - 326s 837ms/step - loss: 0.0043 - accuracy: 0.9998 - val_loss: 0.0000e+00 - val_accuracy: 1.0000\n",
      "\n",
      "Epoch 00025: loss did not improve from 0.00000\n"
     ]
    }
   ],
   "source": [
    "# As mentioned above, certain parameters of the model are based on ratios between the size\n",
    "# of the samples, batch, etc.\n",
    "\n",
    "# Number of epochs is kept relatively low (to run quicker and diagnose problems), \n",
    "# but can be increased for actual use later on\n",
    "history = classifier.fit_generator(training_set,\n",
    "                                   steps_per_epoch = math.ceil(training_set.n/training_set.batch_size),\n",
    "                                   epochs = 25,\n",
    "                                   callbacks=callbacks,\n",
    "                                   validation_data = validation_set,\n",
    "                                   validation_steps = math.ceil(validation_set.n/validation_set.batch_size),\n",
    "                                   shuffle=True)"
   ]
  },
  {
   "cell_type": "code",
   "execution_count": 88,
   "metadata": {},
   "outputs": [],
   "source": [
    "loss = history.history['loss']\n",
    "val_loss = history.history['val_loss']\n",
    "accuracy = history.history['accuracy']\n",
    "val_accuracy = history.history['val_accuracy']"
   ]
  },
  {
   "cell_type": "code",
   "execution_count": 89,
   "metadata": {},
   "outputs": [],
   "source": [
    "output_file = open(r\"output_1.0.0.txt\", \"w\")\n",
    "\n",
    "output_file.write(\"loss\\n\")\n",
    "for i in range(len(loss)):\n",
    "    output_file.write(str(loss[i]))\n",
    "    output_file.write(\"\\n\")\n",
    "output_file.write(\"\\nval_loss\\n\")\n",
    "for i in range(len(val_loss)):\n",
    "    output_file.write(str(val_loss[i]))\n",
    "    output_file.write(\"\\n\")\n",
    "output_file.write(\"\\naccuracy\\n\")\n",
    "for i in range(len(accuracy)):\n",
    "    output_file.write(str(accuracy[i]))\n",
    "    output_file.write(\"\\n\")\n",
    "output_file.write(\"\\nval_accuracy\\n\")\n",
    "for i in range(len(val_accuracy)):\n",
    "    output_file.write(str(val_accuracy[i]))\n",
    "    output_file.write(\"\\n\")\n",
    "    \n",
    "output_file.close()"
   ]
  },
  {
   "cell_type": "code",
   "execution_count": 90,
   "metadata": {},
   "outputs": [
    {
     "name": "stdout",
     "output_type": "stream",
     "text": [
      "Total time:  8208.863645792007\n",
      "Average time:  328.3545458316803\n"
     ]
    }
   ],
   "source": [
    "times = time_callback.times\n",
    "print(\"Total time: \", np.sum(times))\n",
    "print(\"Average time: \", np.sum(times)/len(times))"
   ]
  },
  {
   "cell_type": "code",
   "execution_count": 91,
   "metadata": {},
   "outputs": [],
   "source": [
    "classifier.save(\"cnn_1.0.0.h5\")"
   ]
  },
  {
   "cell_type": "code",
   "execution_count": 109,
   "metadata": {},
   "outputs": [
    {
     "data": {
      "image/png": "[encoded data removed]",
      "text/plain": [
       "<Figure size 720x504 with 1 Axes>"
      ]
     },
     "metadata": {
      "needs_background": "light"
     },
     "output_type": "display_data"
    }
   ],
   "source": [
    "matplotlib.pyplot.figure(figsize=(10,7))\n",
    "matplotlib.pyplot.rcParams[\"font.family\"] = \"Arial\"\n",
    "matplotlib.pyplot.rcParams.update({'font.size': 22})\n",
    "matplotlib.pyplot.plot(history.history['loss'], label='Loss', color='blue');\n",
    "matplotlib.pyplot.plot(history.history['val_loss'], label='Validation Loss', color='red');\n",
    "matplotlib.pyplot.xlabel('Epoch');\n",
    "matplotlib.pyplot.rcParams.update({'font.size': 26})\n",
    "matplotlib.pyplot.title('Loss and Validation Loss per Epoch')\n",
    "matplotlib.pyplot.legend();\n",
    "matplotlib.pyplot.savefig('cnn_1.0.0_loss.png')"
   ]
  },
  {
   "cell_type": "code",
   "execution_count": 110,
   "metadata": {},
   "outputs": [
    {
     "data": {
      "image/png": "[encoded data removed]",
      "text/plain": [
       "<Figure size 720x504 with 1 Axes>"
      ]
     },
     "metadata": {
      "needs_background": "light"
     },
     "output_type": "display_data"
    }
   ],
   "source": [
    "matplotlib.pyplot.figure(figsize=(10,7))\n",
    "matplotlib.pyplot.rcParams[\"font.family\"] = \"Arial\"\n",
    "matplotlib.pyplot.rcParams.update({'font.size': 22})\n",
    "matplotlib.pyplot.plot(history.history['accuracy'], label='Accuracy', color='blue');\n",
    "matplotlib.pyplot.plot(history.history['val_accuracy'], label='Validation Accuracy', color='red');\n",
    "matplotlib.pyplot.xlabel('Epoch');\n",
    "matplotlib.pyplot.rcParams.update({'font.size': 26})\n",
    "matplotlib.pyplot.title('Accuracy and Validation Accuracy per Epoch')\n",
    "matplotlib.pyplot.legend();\n",
    "matplotlib.pyplot.savefig('cnn_1.0.0_acc.png')"
   ]
  },
  {
   "cell_type": "code",
   "execution_count": 94,
   "metadata": {},
   "outputs": [],
   "source": [
    "loaded_model = load_model(\"cnn_1.0.0.h5\")"
   ]
  },
  {
   "cell_type": "code",
   "execution_count": 95,
   "metadata": {},
   "outputs": [],
   "source": [
    "filenames = test_set.filenames\n",
    "nb_samples = len(filenames)\n",
    "\n",
    "predict = classifier.predict_generator(test_set, steps = nb_samples)"
   ]
  },
  {
   "cell_type": "code",
   "execution_count": 97,
   "metadata": {},
   "outputs": [
    {
     "name": "stdout",
     "output_type": "stream",
     "text": [
      "[[1. 0. 0.]\n",
      " [1. 0. 0.]\n",
      " [1. 0. 0.]\n",
      " ...\n",
      " [0. 0. 1.]\n",
      " [0. 0. 1.]\n",
      " [0. 0. 1.]]\n"
     ]
    }
   ],
   "source": [
    "print(predict)"
   ]
  },
  {
   "cell_type": "code",
   "execution_count": null,
   "metadata": {},
   "outputs": [],
   "source": [
    "y_pred_report = np.argmax(predict, axis = 1)\n",
    "y_test_report = np.argmax(y_test, axis = 1)"
   ]
  },
  {
   "cell_type": "code",
   "execution_count": 98,
   "metadata": {},
   "outputs": [
    {
     "name": "stdout",
     "output_type": "stream",
     "text": [
      "Classification Report\n",
      "              precision    recall  f1-score   support\n",
      "\n",
      "     class_0       1.00      1.00      1.00       138\n",
      "     class_1       1.00      1.00      1.00      2630\n",
      "     class_2       1.00      1.00      1.00       280\n",
      "\n",
      "    accuracy                           1.00      3048\n",
      "   macro avg       1.00      1.00      1.00      3048\n",
      "weighted avg       1.00      1.00      1.00      3048\n",
      "\n"
     ]
    }
   ],
   "source": [
    "print('Classification Report')\n",
    "target_names = [\"class_0\", \"class_1\", \"class_2\"]\n",
    "print(classification_report(test_set.classes, y_pred_report, target_names=target_names))"
   ]
  },
  {
   "cell_type": "code",
   "execution_count": 99,
   "metadata": {},
   "outputs": [
    {
     "name": "stdout",
     "output_type": "stream",
     "text": [
      "Confusion Matrix\n",
      "[[ 138    0    0]\n",
      " [   0 2630    0]\n",
      " [   0    0  280]]\n"
     ]
    }
   ],
   "source": [
    "print('Confusion Matrix')\n",
    "matrix=confusion_matrix(test_set.classes, y_pred_report)\n",
    "print(matrix)"
   ]
  },
  {
   "cell_type": "code",
   "execution_count": 111,
   "metadata": {},
   "outputs": [
    {
     "data": {
      "image/png": "[encoded data removed]",
      "text/plain": [
       "<Figure size 576x576 with 2 Axes>"
      ]
     },
     "metadata": {
      "needs_background": "light"
     },
     "output_type": "display_data"
    }
   ],
   "source": [
    "figure = matplotlib.pyplot.figure(figsize=(8, 8))\n",
    "sns.heatmap(matrix, annot=True,cmap=matplotlib.pyplot.cm.Blues,\n",
    "           annot_kws={\"size\": 24}, fmt='d')\n",
    "matplotlib.pyplot.tight_layout()\n",
    "matplotlib.pyplot.title(\"Accuracy = 1.0\")\n",
    "matplotlib.pyplot.ylabel('True label')\n",
    "matplotlib.pyplot.xlabel('Predicted label')\n",
    "matplotlib.rcParams.update({'font.size': 24})\n",
    "matplotlib.pyplot.savefig('conmatrix_cnn_1.0.0.png',bbox_inches='tight')\n",
    "matplotlib.pyplot.show()"
   ]
  }
 ],
 "metadata": {
  "kernelspec": {
   "display_name": "Python 3",
   "language": "python",
   "name": "python3"
  },
  "language_info": {
   "codemirror_mode": {
    "name": "ipython",
    "version": 3
   },
   "file_extension": ".py",
   "mimetype": "text/x-python",
   "name": "python",
   "nbconvert_exporter": "python",
   "pygments_lexer": "ipython3",
   "version": "3.7.6"
  }
 },
 "nbformat": 4,
 "nbformat_minor": 2
}
