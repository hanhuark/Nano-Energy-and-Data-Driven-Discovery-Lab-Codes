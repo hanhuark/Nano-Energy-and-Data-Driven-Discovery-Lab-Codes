{
 "cells": [
  {
   "cell_type": "markdown",
   "metadata": {},
   "source": [
    "https://thebinarynotes.com/video-classification-keras-convlstm/\n",
    "\n",
    "Version History:\n",
    "- v1.0.0: Original tutorial code, with I/O from boiling videos\n",
    "- v1.1.0: Running code with more frames and epochs over the weekend.\n",
    "- v1.1.1: Using first 10 frames to test model with new video.\n",
    "- v1.1.2: Training code for PSC Bridges; added time callback to export average and total training time.\n",
    "- v1.1.3: Same code as on Bridges, but adapted to run on mobile workstation.\n",
    "- v1.1.6: Testing, 5 epochs, no figures"
   ]
  },
  {
   "cell_type": "code",
   "execution_count": 3,
   "metadata": {},
   "outputs": [],
   "source": [
    "import keras\n",
    "from keras import applications\n",
    "from keras.preprocessing.image import ImageDataGenerator\n",
    "from keras import optimizers\n",
    "from keras.models import Sequential, Model, load_model\n",
    "from keras.layers import *\n",
    "from keras.callbacks import ModelCheckpoint, LearningRateScheduler, TensorBoard, EarlyStopping\n",
    " \n",
    "import os\n",
    "import cv2\n",
    "import numpy as np\n",
    "import matplotlib.pyplot\n",
    "import seaborn as sns\n",
    "import time\n",
    "\n",
    "from sklearn.model_selection import train_test_split\n",
    "import keras_metrics as km \n",
    "from sklearn.metrics import accuracy_score\n",
    "from sklearn.metrics import precision_score\n",
    "from sklearn.metrics import recall_score\n",
    "from sklearn.metrics import f1_score\n",
    "from sklearn.metrics import cohen_kappa_score\n",
    "from sklearn.metrics import roc_auc_score\n",
    "from sklearn.metrics import confusion_matrix\n",
    "from sklearn.metrics import classification_report"
   ]
  },
  {
   "cell_type": "code",
   "execution_count": 4,
   "metadata": {},
   "outputs": [],
   "source": [
    "data_dir = \"videos/\"\n",
    "img_height , img_width = 128, 128\n",
    "seq_len = 10\n",
    " \n",
    "classes = [\"class_0\", \"class_1\", \"class_2\"]\n",
    " \n",
    "#  Creating frames from videos\n",
    " \n",
    "def frames_extraction(video_path):\n",
    "    frames_list = []\n",
    "     \n",
    "    vidObj = cv2.VideoCapture(video_path)\n",
    "    # Used as counter variable \n",
    "    count = 1\n",
    " \n",
    "    while count <= seq_len: \n",
    "         \n",
    "        success, image = vidObj.read() \n",
    "        if success:\n",
    "            image = cv2.resize(image, (img_height, img_width))\n",
    "            frames_list.append(image)\n",
    "            count += 1\n",
    "        else:\n",
    "            print(\"Defected frame\")\n",
    "            break\n",
    " \n",
    "            \n",
    "    return frames_list\n",
    " \n",
    "def create_data(input_dir):\n",
    "    X = []\n",
    "    Y = []\n",
    "     \n",
    "    classes_list = os.listdir(input_dir)\n",
    "     \n",
    "    for c in classes_list:\n",
    "        if c != \"Class 1, small\":\n",
    "            print(c)\n",
    "            files_list = os.listdir(os.path.join(input_dir, c))\n",
    "            for f in files_list:\n",
    "                frames = frames_extraction(os.path.join(os.path.join(input_dir, c), f))\n",
    "                if len(frames) == (seq_len):\n",
    "                    X.append(frames)\n",
    "                    y = [0]*len(classes)\n",
    "                    y[classes.index(c)] = 1\n",
    "                    Y.append(y)\n",
    "        else:\n",
    "            pass\n",
    "     \n",
    "    X = np.asarray(X)\n",
    "    Y = np.asarray(Y)\n",
    "    return X, Y"
   ]
  },
  {
   "cell_type": "code",
   "execution_count": 5,
   "metadata": {
    "scrolled": true
   },
   "outputs": [
    {
     "name": "stdout",
     "output_type": "stream",
     "text": [
      "class_0\n",
      "class_1\n",
      "Defected frame\n",
      "class_2\n"
     ]
    }
   ],
   "source": [
    "X, Y = create_data(data_dir)"
   ]
  },
  {
   "cell_type": "code",
   "execution_count": 6,
   "metadata": {},
   "outputs": [],
   "source": [
    "X_train, X_test, y_train, y_test = train_test_split(X, Y, test_size=0.20, shuffle=True, random_state=0)"
   ]
  },
  {
   "cell_type": "code",
   "execution_count": 7,
   "metadata": {},
   "outputs": [
    {
     "name": "stdout",
     "output_type": "stream",
     "text": [
      "Model: \"sequential_1\"\n",
      "_________________________________________________________________\n",
      "Layer (type)                 Output Shape              Param #   \n",
      "=================================================================\n",
      "conv_lst_m2d_1 (ConvLSTM2D)  (None, 126, 126, 64)      154624    \n",
      "_________________________________________________________________\n",
      "dropout_1 (Dropout)          (None, 126, 126, 64)      0         \n",
      "_________________________________________________________________\n",
      "flatten_1 (Flatten)          (None, 1016064)           0         \n",
      "_________________________________________________________________\n",
      "dense_1 (Dense)              (None, 256)               260112640 \n",
      "_________________________________________________________________\n",
      "dropout_2 (Dropout)          (None, 256)               0         \n",
      "_________________________________________________________________\n",
      "dense_2 (Dense)              (None, 3)                 771       \n",
      "=================================================================\n",
      "Total params: 260,268,035\n",
      "Trainable params: 260,268,035\n",
      "Non-trainable params: 0\n",
      "_________________________________________________________________\n"
     ]
    }
   ],
   "source": [
    "model = Sequential()\n",
    "model.add(ConvLSTM2D(filters = 64, kernel_size = (3, 3), return_sequences = False, \n",
    "                     data_format = \"channels_last\", input_shape = (seq_len, img_height, img_width, 3)))\n",
    "model.add(Dropout(0.2))\n",
    "model.add(Flatten())\n",
    "model.add(Dense(256, activation=\"relu\"))\n",
    "model.add(Dropout(0.3))\n",
    "model.add(Dense(3, activation = \"softmax\"))\n",
    " \n",
    "model.summary()\n",
    " \n",
    "opt = keras.optimizers.SGD(lr=0.001)\n",
    "model.compile(loss='categorical_crossentropy', optimizer=opt, metrics=[\"accuracy\"])\n",
    "\n",
    "# Prepare callback for training time.\n",
    "class TimeHistory(keras.callbacks.Callback):\n",
    "    def on_train_begin(self, logs={}):\n",
    "        self.times=[]\n",
    "    def on_epoch_begin(self, batch, logs={}):\n",
    "        self.epoch_time_start=time.time()\n",
    "    def on_epoch_end(self, batch, logs={}):\n",
    "        self.times.append(time.time() - self.epoch_time_start)\n",
    "\n",
    "time_callback = TimeHistory()\n",
    "\n",
    "earlystop = EarlyStopping(patience=7)\n",
    "mc = ModelCheckpoint('mdl_weights_v1.1.3.hdf5', save_best_only=True, monitor='val_loss', mode='min')\n",
    "callbacks = [mc, time_callback]"
   ]
  },
  {
   "cell_type": "code",
   "execution_count": 8,
   "metadata": {
    "scrolled": true
   },
   "outputs": [
    {
     "name": "stdout",
     "output_type": "stream",
     "text": [
      "Train on 1328 samples, validate on 332 samples\n",
      "Epoch 1/5\n",
      "1328/1328 [==============================] - 1697s 1s/step - loss: 0.4811 - accuracy: 0.8916 - val_loss: 0.2121 - val_accuracy: 0.9428\n",
      "Epoch 2/5\n",
      "1328/1328 [==============================] - 1867s 1s/step - loss: 0.1348 - accuracy: 0.9511 - val_loss: 0.0688 - val_accuracy: 0.9548\n",
      "Epoch 3/5\n",
      "1328/1328 [==============================] - 1934s 1s/step - loss: 0.0560 - accuracy: 0.9789 - val_loss: 0.0196 - val_accuracy: 0.9970\n",
      "Epoch 4/5\n",
      "1328/1328 [==============================] - 1957s 1s/step - loss: 0.0197 - accuracy: 0.9985 - val_loss: 0.0247 - val_accuracy: 0.9910\n",
      "Epoch 5/5\n",
      "1328/1328 [==============================] - 2003s 2s/step - loss: 0.0082 - accuracy: 0.9992 - val_loss: 0.0084 - val_accuracy: 1.0000\n"
     ]
    }
   ],
   "source": [
    "history = model.fit(x = X_train, y = y_train, epochs=5, batch_size = 8 , \n",
    "                    shuffle=True, validation_split=0.2, callbacks=callbacks,\n",
    "                    verbose=1)"
   ]
  },
  {
   "cell_type": "code",
   "execution_count": 20,
   "metadata": {},
   "outputs": [
    {
     "name": "stdout",
     "output_type": "stream",
     "text": [
      "Total time:  9472.496505737305\n",
      "Average time:  1894.499301147461\n"
     ]
    }
   ],
   "source": [
    "times = time_callback.times\n",
    "print(\"Total time: \", np.sum(times))\n",
    "print(\"Average time: \", np.sum(times)/len(times))"
   ]
  },
  {
   "cell_type": "code",
   "execution_count": 21,
   "metadata": {},
   "outputs": [],
   "source": [
    "model.save(\"convlstm_v1.1.3.h5\")"
   ]
  },
  {
   "cell_type": "code",
   "execution_count": 22,
   "metadata": {},
   "outputs": [],
   "source": [
    "loaded_model = load_model(\"convlstm_v1.1.3.h5\")"
   ]
  },
  {
   "cell_type": "code",
   "execution_count": 23,
   "metadata": {},
   "outputs": [],
   "source": [
    "y_pred = loaded_model.predict(X_test)"
   ]
  },
  {
   "cell_type": "code",
   "execution_count": 24,
   "metadata": {},
   "outputs": [],
   "source": [
    "y_pred_report = np.argmax(y_pred, axis = 1)\n",
    "y_test_report = np.argmax(y_test, axis = 1)"
   ]
  },
  {
   "cell_type": "code",
   "execution_count": 25,
   "metadata": {},
   "outputs": [
    {
     "name": "stdout",
     "output_type": "stream",
     "text": [
      "              precision    recall  f1-score   support\n",
      "\n",
      "           0       1.00      1.00      1.00        22\n",
      "           1       1.00      1.00      1.00       372\n",
      "           2       1.00      1.00      1.00        22\n",
      "\n",
      "    accuracy                           1.00       416\n",
      "   macro avg       1.00      1.00      1.00       416\n",
      "weighted avg       1.00      1.00      1.00       416\n",
      "\n"
     ]
    }
   ],
   "source": [
    "print(classification_report(y_test_report, y_pred_report))"
   ]
  },
  {
   "cell_type": "code",
   "execution_count": 26,
   "metadata": {},
   "outputs": [],
   "source": [
    "matrix = confusion_matrix(y_test_report, y_pred_report)"
   ]
  },
  {
   "cell_type": "code",
   "execution_count": 27,
   "metadata": {},
   "outputs": [
    {
     "name": "stdout",
     "output_type": "stream",
     "text": [
      "[[ 22   0   0]\n",
      " [  0 372   0]\n",
      " [  0   0  22]]\n"
     ]
    }
   ],
   "source": [
    "print(matrix)"
   ]
  },
  {
   "cell_type": "code",
   "execution_count": 28,
   "metadata": {
    "scrolled": false
   },
   "outputs": [
    {
     "data": {
      "image/png": "[encoded data removed]",
      "text/plain": [
       "<Figure size 576x576 with 2 Axes>"
      ]
     },
     "metadata": {
      "needs_background": "light"
     },
     "output_type": "display_data"
    }
   ],
   "source": [
    "figure = matplotlib.pyplot.figure(figsize=(8, 8))\n",
    "sns.heatmap(matrix, annot=True,cmap=matplotlib.pyplot.cm.Blues,\n",
    "           annot_kws={\"size\": 24}, fmt='d')\n",
    "matplotlib.pyplot.tight_layout()\n",
    "matplotlib.rcParams.update({'font.size': 26})\n",
    "matplotlib.pyplot.title(\"Accuracy = 1.0\")\n",
    "matplotlib.rcParams.update({'font.size': 24})\n",
    "matplotlib.pyplot.ylabel('True label')\n",
    "matplotlib.pyplot.xlabel('Predicted label')\n",
    "#matplotlib.pyplot.savefig('conmatrix_convlstm_v1.1.3.png',bbox_inches='tight')\n",
    "matplotlib.pyplot.show()"
   ]
  },
  {
   "cell_type": "code",
   "execution_count": 29,
   "metadata": {},
   "outputs": [],
   "source": [
    "loss = history.history['loss']\n",
    "val_loss = history.history['val_loss']\n",
    "accuracy = history.history['accuracy']\n",
    "val_accuracy = history.history['val_accuracy']"
   ]
  },
  {
   "cell_type": "code",
   "execution_count": 30,
   "metadata": {},
   "outputs": [],
   "source": [
    "output_file = open(r\"output_1.1.6.txt\", \"w\")\n",
    "\n",
    "output_file.write(\"loss\\n\")\n",
    "for i in range(len(loss)):\n",
    "    output_file.write(str(loss[i]))\n",
    "    output_file.write(\"\\n\")\n",
    "output_file.write(\"\\nval_loss\\n\")\n",
    "for i in range(len(val_loss)):\n",
    "    output_file.write(str(val_loss[i]))\n",
    "    output_file.write(\"\\n\")\n",
    "output_file.write(\"\\naccuracy\\n\")\n",
    "for i in range(len(accuracy)):\n",
    "    output_file.write(str(accuracy[i]))\n",
    "    output_file.write(\"\\n\")\n",
    "output_file.write(\"\\nval_accuracy\\n\")\n",
    "for i in range(len(val_accuracy)):\n",
    "    output_file.write(str(val_accuracy[i]))\n",
    "    output_file.write(\"\\n\")\n",
    "    \n",
    "output_file.close()"
   ]
  },
  {
   "cell_type": "code",
   "execution_count": null,
   "metadata": {},
   "outputs": [],
   "source": []
  }
 ],
 "metadata": {
  "kernelspec": {
   "display_name": "Python 3",
   "language": "python",
   "name": "python3"
  },
  "language_info": {
   "codemirror_mode": {
    "name": "ipython",
    "version": 3
   },
   "file_extension": ".py",
   "mimetype": "text/x-python",
   "name": "python",
   "nbconvert_exporter": "python",
   "pygments_lexer": "ipython3",
   "version": "3.7.6"
  }
 },
 "nbformat": 4,
 "nbformat_minor": 4
}
