{
 "cells": [
  {
   "cell_type": "markdown",
   "metadata": {},
   "source": [
    "From: https://medium.com/smileinnovation/training-neural-network-with-image-sequence-an-example-with-video-as-input-c3407f7a0b0f\n",
    "\n",
    "(MobileNet section)"
   ]
  },
  {
   "cell_type": "markdown",
   "metadata": {},
   "source": [
    "Version History:\n",
    "- v1.0.0: Just using the tutorial code and running."
   ]
  },
  {
   "cell_type": "code",
   "execution_count": 43,
   "metadata": {},
   "outputs": [],
   "source": [
    "import os\n",
    "import glob\n",
    "import keras \n",
    "from keras_video import VideoFrameGenerator\n",
    "from keras.layers import Conv2D, BatchNormalization, MaxPool2D, GlobalMaxPool2D\n",
    "from keras.layers import TimeDistributed, GRU, Dense, Dropout\n",
    "import matplotlib.pyplot as plt"
   ]
  },
  {
   "cell_type": "code",
   "execution_count": 27,
   "metadata": {},
   "outputs": [],
   "source": [
    "# use sub directories names as classes\n",
    "classes = [i.split(os.path.sep)[1] for i in glob.glob('videos/*')]\n",
    "classes.sort()"
   ]
  },
  {
   "cell_type": "code",
   "execution_count": 28,
   "metadata": {},
   "outputs": [],
   "source": [
    "# Set size to 224, 224\n",
    "SIZE = (224, 224)\n",
    "CHANNELS = 3\n",
    "NBFRAME = 5\n",
    "BS = 8"
   ]
  },
  {
   "cell_type": "code",
   "execution_count": 29,
   "metadata": {},
   "outputs": [],
   "source": [
    "# pattern to get videos and classes\n",
    "glob_pattern='videos/{classname}/*.avi'"
   ]
  },
  {
   "cell_type": "code",
   "execution_count": 30,
   "metadata": {},
   "outputs": [],
   "source": [
    "# for data augmentation\n",
    "data_aug = keras.preprocessing.image.ImageDataGenerator(\n",
    "    zoom_range=.1,\n",
    "    horizontal_flip=True,\n",
    "    rotation_range=8,\n",
    "    width_shift_range=.2,\n",
    "    height_shift_range=.2)"
   ]
  },
  {
   "cell_type": "code",
   "execution_count": 31,
   "metadata": {},
   "outputs": [
    {
     "name": "stderr",
     "output_type": "stream",
     "text": [
      "Warning, `split` argument is replaced by `split_val`, please condider to change your source code.The `split` argument will be removed in future releases.\n"
     ]
    },
    {
     "name": "stdout",
     "output_type": "stream",
     "text": [
      "class dribble, validation count: 47, train count: 98\n",
      "class golf, validation count: 34, train count: 71\n",
      "class kick_ball, validation count: 42, train count: 86\n",
      "Total data: 3 classes for 255 files for train\n"
     ]
    }
   ],
   "source": [
    "# Create video frame generator\n",
    "train = VideoFrameGenerator(\n",
    "    classes=classes, \n",
    "    glob_pattern=glob_pattern,\n",
    "    nb_frames=NBFRAME,\n",
    "    split=.33, \n",
    "    shuffle=True,\n",
    "    batch_size=BS,\n",
    "    target_shape=SIZE,\n",
    "    nb_channel=CHANNELS,\n",
    "    transformation=data_aug,\n",
    "    use_frame_cache=True)"
   ]
  },
  {
   "cell_type": "code",
   "execution_count": 34,
   "metadata": {},
   "outputs": [
    {
     "name": "stdout",
     "output_type": "stream",
     "text": [
      "Total data: 3 classes for 123 files for validation\n"
     ]
    }
   ],
   "source": [
    "valid = train.get_validation_generator()"
   ]
  },
  {
   "cell_type": "code",
   "execution_count": 35,
   "metadata": {},
   "outputs": [],
   "source": [
    "def build_mobilenet(shape=(224, 224, 3), nbout=3):\n",
    "    model = keras.applications.mobilenet.MobileNet(\n",
    "        include_top=False,\n",
    "        input_shape=shape,\n",
    "        weights='imagenet')    \n",
    "    \n",
    "    # Keep 9 layers to train﻿﻿\n",
    "    trainable = 9\n",
    "    \n",
    "    for layer in model.layers[:-trainable]:\n",
    "        layer.trainable = False\n",
    "    for layer in model.layers[-trainable:]:\n",
    "        layer.trainable = True    \n",
    "        \n",
    "    output = keras.layers.GlobalMaxPool2D()    \n",
    "    return keras.Sequential([model, output])"
   ]
  },
  {
   "cell_type": "code",
   "execution_count": 36,
   "metadata": {},
   "outputs": [],
   "source": [
    "def action_model(shape=(5, 224, 224, 3), nbout=3):\n",
    "    # Create our convnet with (224, 224, 3) input shape\n",
    "    convnet = build_mobilenet(shape[1:])\n",
    "    \n",
    "    # then create our final model\n",
    "    model = keras.Sequential()    # add the convnet with (5, 224, 224, 3) shape\n",
    "    model.add(TimeDistributed(convnet, input_shape=shape))    # here, you can also use GRU or LSTM\n",
    "    model.add(GRU(64))    # and finally, we make a decision network\n",
    "    model.add(Dense(1024, activation='relu'))\n",
    "    model.add(Dropout(.5))\n",
    "    model.add(Dense(512, activation='relu'))\n",
    "    model.add(Dropout(.5))\n",
    "    model.add(Dense(128, activation='relu'))\n",
    "    model.add(Dropout(.5))\n",
    "    model.add(Dense(64, activation='relu'))\n",
    "    model.add(Dense(nbout, activation='softmax'))\n",
    "    return model"
   ]
  },
  {
   "cell_type": "code",
   "execution_count": 37,
   "metadata": {
    "scrolled": false
   },
   "outputs": [],
   "source": [
    "INSHAPE=(NBFRAME,) + SIZE + (CHANNELS,) # (5, 224, 224, 3)\n",
    "model = action_model(INSHAPE, len(classes))\n",
    "optimizer = keras.optimizers.SGD()\n",
    "model.compile(\n",
    "    optimizer,\n",
    "    'categorical_crossentropy',\n",
    "    metrics=['acc']\n",
    ")"
   ]
  },
  {
   "cell_type": "code",
   "execution_count": 40,
   "metadata": {
    "scrolled": true
   },
   "outputs": [
    {
     "name": "stdout",
     "output_type": "stream",
     "text": [
      "Epoch 1/50\n",
      "31/31 [==============================] - 105s 3s/step - loss: 1.1184 - acc: 0.3427 - val_loss: 1.1467 - val_acc: 0.3833\n",
      "\n",
      "Epoch 00001: saving model to chkp_mobilenet/weights.01-1.15.hdf5\n",
      "Epoch 2/50\n",
      "31/31 [==============================] - 105s 3s/step - loss: 1.1077 - acc: 0.3669 - val_loss: 1.0419 - val_acc: 0.3833\n",
      "\n",
      "Epoch 00002: saving model to chkp_mobilenet/weights.02-1.04.hdf5\n",
      "Epoch 3/50\n",
      "31/31 [==============================] - 94s 3s/step - loss: 1.1087 - acc: 0.3548 - val_loss: 1.1092 - val_acc: 0.3833\n",
      "\n",
      "Epoch 00003: saving model to chkp_mobilenet/weights.03-1.11.hdf5\n",
      "Epoch 4/50\n",
      "31/31 [==============================] - 94s 3s/step - loss: 1.1175 - acc: 0.3710 - val_loss: 1.0623 - val_acc: 0.3750\n",
      "\n",
      "Epoch 00004: saving model to chkp_mobilenet/weights.04-1.06.hdf5\n",
      "Epoch 5/50\n",
      "31/31 [==============================] - 98s 3s/step - loss: 1.1152 - acc: 0.3306 - val_loss: 0.9726 - val_acc: 0.4000\n",
      "\n",
      "Epoch 00005: saving model to chkp_mobilenet/weights.05-0.97.hdf5\n",
      "Epoch 6/50\n",
      "31/31 [==============================] - 96s 3s/step - loss: 1.1011 - acc: 0.3831 - val_loss: 1.0389 - val_acc: 0.4333\n",
      "\n",
      "Epoch 00006: saving model to chkp_mobilenet/weights.06-1.04.hdf5\n",
      "Epoch 7/50\n",
      "31/31 [==============================] - 89s 3s/step - loss: 1.0928 - acc: 0.3911 - val_loss: 1.1400 - val_acc: 0.3750\n",
      "\n",
      "Epoch 00007: saving model to chkp_mobilenet/weights.07-1.14.hdf5\n",
      "Epoch 8/50\n",
      "31/31 [==============================] - 87s 3s/step - loss: 1.0923 - acc: 0.3669 - val_loss: 1.1566 - val_acc: 0.3750\n",
      "\n",
      "Epoch 00008: saving model to chkp_mobilenet/weights.08-1.16.hdf5\n",
      "Epoch 9/50\n",
      "31/31 [==============================] - 87s 3s/step - loss: 1.0834 - acc: 0.4032 - val_loss: 0.9952 - val_acc: 0.3833\n",
      "\n",
      "Epoch 00009: saving model to chkp_mobilenet/weights.09-1.00.hdf5\n",
      "Epoch 10/50\n",
      "31/31 [==============================] - 88s 3s/step - loss: 1.0916 - acc: 0.3669 - val_loss: 0.9679 - val_acc: 0.3833\n",
      "\n",
      "Epoch 00010: saving model to chkp_mobilenet/weights.10-0.97.hdf5\n",
      "Epoch 11/50\n",
      "31/31 [==============================] - 90s 3s/step - loss: 1.0740 - acc: 0.4597 - val_loss: 1.0053 - val_acc: 0.5333\n",
      "\n",
      "Epoch 00011: saving model to chkp_mobilenet/weights.11-1.01.hdf5\n",
      "Epoch 12/50\n",
      "31/31 [==============================] - 88s 3s/step - loss: 1.0763 - acc: 0.4274 - val_loss: 1.0857 - val_acc: 0.5250\n",
      "\n",
      "Epoch 00012: saving model to chkp_mobilenet/weights.12-1.09.hdf5\n",
      "Epoch 13/50\n",
      "31/31 [==============================] - 87s 3s/step - loss: 1.0909 - acc: 0.4234 - val_loss: 1.0847 - val_acc: 0.4417\n",
      "\n",
      "Epoch 00013: saving model to chkp_mobilenet/weights.13-1.08.hdf5\n",
      "Epoch 14/50\n",
      "31/31 [==============================] - 88s 3s/step - loss: 1.0758 - acc: 0.4032 - val_loss: 1.0124 - val_acc: 0.5333\n",
      "\n",
      "Epoch 00014: saving model to chkp_mobilenet/weights.14-1.01.hdf5\n",
      "Epoch 15/50\n",
      "31/31 [==============================] - 87s 3s/step - loss: 1.0460 - acc: 0.4516 - val_loss: 1.0195 - val_acc: 0.6083\n",
      "\n",
      "Epoch 00015: saving model to chkp_mobilenet/weights.15-1.02.hdf5\n",
      "Epoch 16/50\n",
      "31/31 [==============================] - 88s 3s/step - loss: 1.0142 - acc: 0.5444 - val_loss: 1.0270 - val_acc: 0.6333\n",
      "\n",
      "Epoch 00016: saving model to chkp_mobilenet/weights.16-1.03.hdf5\n",
      "Epoch 17/50\n",
      "31/31 [==============================] - 88s 3s/step - loss: 0.9987 - acc: 0.5202 - val_loss: 0.8086 - val_acc: 0.6333\n",
      "\n",
      "Epoch 00017: saving model to chkp_mobilenet/weights.17-0.81.hdf5\n",
      "Epoch 18/50\n",
      "31/31 [==============================] - 88s 3s/step - loss: 1.0077 - acc: 0.5242 - val_loss: 0.8327 - val_acc: 0.5917\n",
      "\n",
      "Epoch 00018: saving model to chkp_mobilenet/weights.18-0.83.hdf5\n",
      "Epoch 19/50\n",
      "31/31 [==============================] - 88s 3s/step - loss: 0.9375 - acc: 0.5685 - val_loss: 0.6574 - val_acc: 0.6667\n",
      "\n",
      "Epoch 00019: saving model to chkp_mobilenet/weights.19-0.66.hdf5\n",
      "Epoch 20/50\n",
      "31/31 [==============================] - 87s 3s/step - loss: 0.8792 - acc: 0.5887 - val_loss: 0.6550 - val_acc: 0.6917\n",
      "\n",
      "Epoch 00020: saving model to chkp_mobilenet/weights.20-0.66.hdf5\n",
      "Epoch 21/50\n",
      "31/31 [==============================] - 88s 3s/step - loss: 0.7695 - acc: 0.6532 - val_loss: 0.7519 - val_acc: 0.7000\n",
      "\n",
      "Epoch 00021: saving model to chkp_mobilenet/weights.21-0.75.hdf5\n",
      "Epoch 22/50\n",
      "31/31 [==============================] - 87s 3s/step - loss: 0.8566 - acc: 0.5887 - val_loss: 0.7581 - val_acc: 0.8250\n",
      "\n",
      "Epoch 00022: saving model to chkp_mobilenet/weights.22-0.76.hdf5\n",
      "Epoch 23/50\n",
      "31/31 [==============================] - 87s 3s/step - loss: 0.7985 - acc: 0.6613 - val_loss: 0.6855 - val_acc: 0.6833\n",
      "\n",
      "Epoch 00023: saving model to chkp_mobilenet/weights.23-0.69.hdf5\n",
      "Epoch 24/50\n",
      "31/31 [==============================] - 87s 3s/step - loss: 0.7498 - acc: 0.6492 - val_loss: 0.6560 - val_acc: 0.7500\n",
      "\n",
      "Epoch 00024: saving model to chkp_mobilenet/weights.24-0.66.hdf5\n",
      "Epoch 25/50\n",
      "31/31 [==============================] - 87s 3s/step - loss: 0.7968 - acc: 0.6290 - val_loss: 0.5517 - val_acc: 0.7333\n",
      "\n",
      "Epoch 00025: saving model to chkp_mobilenet/weights.25-0.55.hdf5\n",
      "Epoch 26/50\n",
      "31/31 [==============================] - 87s 3s/step - loss: 0.8260 - acc: 0.6129 - val_loss: 0.7517 - val_acc: 0.5583\n",
      "\n",
      "Epoch 00026: saving model to chkp_mobilenet/weights.26-0.75.hdf5\n",
      "Epoch 27/50\n",
      "31/31 [==============================] - 86s 3s/step - loss: 0.7979 - acc: 0.6411 - val_loss: 0.4265 - val_acc: 0.7750\n",
      "\n",
      "Epoch 00027: saving model to chkp_mobilenet/weights.27-0.43.hdf5\n",
      "Epoch 28/50\n",
      "31/31 [==============================] - 86s 3s/step - loss: 0.6678 - acc: 0.6855 - val_loss: 0.5662 - val_acc: 0.7500\n",
      "\n",
      "Epoch 00028: saving model to chkp_mobilenet/weights.28-0.57.hdf5\n",
      "Epoch 29/50\n",
      "31/31 [==============================] - 86s 3s/step - loss: 0.6031 - acc: 0.7097 - val_loss: 0.3610 - val_acc: 0.7750\n",
      "\n",
      "Epoch 00029: saving model to chkp_mobilenet/weights.29-0.36.hdf5\n",
      "Epoch 30/50\n",
      "31/31 [==============================] - 86s 3s/step - loss: 0.6019 - acc: 0.7419 - val_loss: 0.2761 - val_acc: 0.7250\n",
      "\n",
      "Epoch 00030: saving model to chkp_mobilenet/weights.30-0.28.hdf5\n",
      "Epoch 31/50\n",
      "31/31 [==============================] - 86s 3s/step - loss: 0.5327 - acc: 0.7621 - val_loss: 0.9857 - val_acc: 0.7583\n",
      "\n",
      "Epoch 00031: saving model to chkp_mobilenet/weights.31-0.99.hdf5\n",
      "Epoch 32/50\n",
      "31/31 [==============================] - 86s 3s/step - loss: 0.7034 - acc: 0.6976 - val_loss: 0.3413 - val_acc: 0.8500\n",
      "\n",
      "Epoch 00032: saving model to chkp_mobilenet/weights.32-0.34.hdf5\n",
      "Epoch 33/50\n",
      "31/31 [==============================] - 86s 3s/step - loss: 0.6359 - acc: 0.7218 - val_loss: 0.3680 - val_acc: 0.8750\n",
      "\n",
      "Epoch 00033: saving model to chkp_mobilenet/weights.33-0.37.hdf5\n",
      "Epoch 34/50\n",
      "31/31 [==============================] - 86s 3s/step - loss: 0.5480 - acc: 0.7661 - val_loss: 0.3558 - val_acc: 0.8667\n",
      "\n",
      "Epoch 00034: saving model to chkp_mobilenet/weights.34-0.36.hdf5\n",
      "Epoch 35/50\n",
      "31/31 [==============================] - 86s 3s/step - loss: 0.5099 - acc: 0.7782 - val_loss: 0.3414 - val_acc: 0.8833\n",
      "\n",
      "Epoch 00035: saving model to chkp_mobilenet/weights.35-0.34.hdf5\n",
      "Epoch 36/50\n",
      "31/31 [==============================] - 87s 3s/step - loss: 0.5806 - acc: 0.7742 - val_loss: 0.2033 - val_acc: 0.8917\n",
      "\n",
      "Epoch 00036: saving model to chkp_mobilenet/weights.36-0.20.hdf5\n",
      "Epoch 37/50\n",
      "31/31 [==============================] - 87s 3s/step - loss: 0.4230 - acc: 0.8387 - val_loss: 0.4526 - val_acc: 0.8167\n",
      "\n",
      "Epoch 00037: saving model to chkp_mobilenet/weights.37-0.45.hdf5\n",
      "Epoch 38/50\n",
      "31/31 [==============================] - 87s 3s/step - loss: 0.4504 - acc: 0.8266 - val_loss: 0.2656 - val_acc: 0.9250\n",
      "\n",
      "Epoch 00038: saving model to chkp_mobilenet/weights.38-0.27.hdf5\n",
      "Epoch 39/50\n",
      "31/31 [==============================] - 87s 3s/step - loss: 0.4488 - acc: 0.8306 - val_loss: 0.8897 - val_acc: 0.7333\n",
      "\n",
      "Epoch 00039: saving model to chkp_mobilenet/weights.39-0.89.hdf5\n",
      "Epoch 40/50\n",
      "31/31 [==============================] - 87s 3s/step - loss: 0.5572 - acc: 0.7984 - val_loss: 0.3122 - val_acc: 0.8333\n",
      "\n",
      "Epoch 00040: saving model to chkp_mobilenet/weights.40-0.31.hdf5\n",
      "Epoch 41/50\n",
      "31/31 [==============================] - 87s 3s/step - loss: 0.5042 - acc: 0.7903 - val_loss: 0.6561 - val_acc: 0.6667\n",
      "\n",
      "Epoch 00041: saving model to chkp_mobilenet/weights.41-0.66.hdf5\n",
      "Epoch 42/50\n",
      "31/31 [==============================] - 87s 3s/step - loss: 0.3715 - acc: 0.8508 - val_loss: 0.4124 - val_acc: 0.8333\n"
     ]
    },
    {
     "name": "stdout",
     "output_type": "stream",
     "text": [
      "\n",
      "Epoch 00042: saving model to chkp_mobilenet/weights.42-0.41.hdf5\n",
      "Epoch 43/50\n",
      "31/31 [==============================] - 85s 3s/step - loss: 0.3720 - acc: 0.8548 - val_loss: 0.3175 - val_acc: 0.9333\n",
      "\n",
      "Epoch 00043: saving model to chkp_mobilenet/weights.43-0.32.hdf5\n",
      "Epoch 44/50\n",
      "31/31 [==============================] - 85s 3s/step - loss: 0.4549 - acc: 0.8266 - val_loss: 0.4349 - val_acc: 0.8833\n",
      "\n",
      "Epoch 00044: saving model to chkp_mobilenet/weights.44-0.43.hdf5\n",
      "Epoch 45/50\n",
      "31/31 [==============================] - 85s 3s/step - loss: 0.4415 - acc: 0.8508 - val_loss: 0.1504 - val_acc: 0.8417\n",
      "\n",
      "Epoch 00045: saving model to chkp_mobilenet/weights.45-0.15.hdf5\n",
      "Epoch 46/50\n",
      "31/31 [==============================] - 86s 3s/step - loss: 0.3831 - acc: 0.8629 - val_loss: 0.2371 - val_acc: 0.9000\n",
      "\n",
      "Epoch 00046: saving model to chkp_mobilenet/weights.46-0.24.hdf5\n",
      "Epoch 47/50\n",
      "31/31 [==============================] - 86s 3s/step - loss: 0.6541 - acc: 0.7984 - val_loss: 0.0972 - val_acc: 0.9500\n",
      "\n",
      "Epoch 00047: saving model to chkp_mobilenet/weights.47-0.10.hdf5\n",
      "Epoch 48/50\n",
      "31/31 [==============================] - 86s 3s/step - loss: 0.3441 - acc: 0.8911 - val_loss: 0.2116 - val_acc: 0.9333\n",
      "\n",
      "Epoch 00048: saving model to chkp_mobilenet/weights.48-0.21.hdf5\n",
      "Epoch 49/50\n",
      "31/31 [==============================] - 86s 3s/step - loss: 0.3210 - acc: 0.9073 - val_loss: 0.0777 - val_acc: 0.9583\n",
      "\n",
      "Epoch 00049: saving model to chkp_mobilenet/weights.49-0.08.hdf5\n",
      "Epoch 50/50\n",
      "31/31 [==============================] - 86s 3s/step - loss: 0.3229 - acc: 0.8790 - val_loss: 0.7406 - val_acc: 0.8333\n",
      "\n",
      "Epoch 00050: saving model to chkp_mobilenet/weights.50-0.74.hdf5\n"
     ]
    }
   ],
   "source": [
    "EPOCHS=50\n",
    "\n",
    "# create a \"chkp_mobilenet\" directory before to run that\n",
    "# because ModelCheckpoint will write models inside\n",
    "\n",
    "callbacks = [\n",
    "    keras.callbacks.ReduceLROnPlateau(verbose=1),\n",
    "    keras.callbacks.ModelCheckpoint(\n",
    "        'chkp_mobilenet/weights.{epoch:02d}-{val_loss:.2f}.hdf5',\n",
    "        verbose=1),\n",
    "]\n",
    "\n",
    "history = model.fit_generator(\n",
    "    train,\n",
    "    validation_data=valid,\n",
    "    verbose=1,\n",
    "    epochs=EPOCHS,\n",
    "    callbacks=callbacks\n",
    ")"
   ]
  },
  {
   "cell_type": "code",
   "execution_count": 58,
   "metadata": {},
   "outputs": [
    {
     "data": {
      "image/png": "[encoded data removed]",
      "text/plain": [
       "<Figure size 432x288 with 1 Axes>"
      ]
     },
     "metadata": {
      "needs_background": "light"
     },
     "output_type": "display_data"
    }
   ],
   "source": [
    "plt.plot(history.history['loss'], label='loss');\n",
    "plt.plot(history.history['val_loss'], label='val_loss');\n",
    "plt.xlabel('epoch');\n",
    "plt.title('Loss and Validation Loss per Epoch')\n",
    "plt.legend();\n",
    "plt.savefig('loss_val_loss_mobilenet.png')"
   ]
  },
  {
   "cell_type": "code",
   "execution_count": 59,
   "metadata": {},
   "outputs": [
    {
     "data": {
      "image/png": "[encoded data removed]",
      "text/plain": [
       "<Figure size 432x288 with 1 Axes>"
      ]
     },
     "metadata": {
      "needs_background": "light"
     },
     "output_type": "display_data"
    }
   ],
   "source": [
    "plt.plot(history.history['acc'], label='accuracy');\n",
    "plt.plot(history.history['val_acc'], label='val_accuracy');\n",
    "plt.xlabel('epoch');\n",
    "plt.title('Accuracy and Validation Accuracy per Epoch')\n",
    "plt.legend();\n",
    "plt.savefig('acc_val_acc_mobilenet.png')"
   ]
  },
  {
   "cell_type": "code",
   "execution_count": null,
   "metadata": {},
   "outputs": [],
   "source": []
  }
 ],
 "metadata": {
  "kernelspec": {
   "display_name": "Python 3",
   "language": "python",
   "name": "python3"
  },
  "language_info": {
   "codemirror_mode": {
    "name": "ipython",
    "version": 3
   },
   "file_extension": ".py",
   "mimetype": "text/x-python",
   "name": "python",
   "nbconvert_exporter": "python",
   "pygments_lexer": "ipython3",
   "version": "3.7.6"
  }
 },
 "nbformat": 4,
 "nbformat_minor": 4
}
