{
 "cells": [
  {
   "cell_type": "markdown",
   "metadata": {},
   "source": [
    "## Script to copy images to testing and training folders with higher image variety by skipping consecutive frames. Smaller volume for now for testing purposes."
   ]
  },
  {
   "cell_type": "code",
   "execution_count": 1,
   "metadata": {},
   "outputs": [
    {
     "name": "stdout",
     "output_type": "stream",
     "text": [
      "All loaded!\n"
     ]
    }
   ],
   "source": [
    "import os\n",
    "import shutil\n",
    "import glob\n",
    "\n",
    "print(\"All loaded!\")"
   ]
  },
  {
   "cell_type": "code",
   "execution_count": 2,
   "metadata": {},
   "outputs": [],
   "source": [
    "test_dir = \"images\"\n",
    "\n",
    "source_1 = \"images/source/CTRC_Film_Boiling\"\n",
    "source_2 = \"images/source/CTRC_Nucleate_Boiling\"\n",
    "source_dir = [source_1, source_2]\n",
    "\n",
    "training_1 = \"images/training/1_film\"\n",
    "training_2 = \"images/training/2_nb\"\n",
    "training_dir = [training_1, training_2]\n",
    "\n",
    "testing_1 = \"images/testing/1_film\"\n",
    "testing_2 = \"images/testing/2_nb\"\n",
    "testing_dir = [testing_1, testing_2]\n",
    "\n",
    "validation_1 = \"images/validation/1_film\"\n",
    "validation_2 = \"images/validation/2_nb\"\n",
    "validation_dir = [validation_1, validation_2]"
   ]
  },
  {
   "cell_type": "code",
   "execution_count": 3,
   "metadata": {},
   "outputs": [
    {
     "name": "stdout",
     "output_type": "stream",
     "text": [
      "10345\n",
      "10001\n"
     ]
    }
   ],
   "source": [
    "print(len(os.listdir(source_1)))\n",
    "print(len(os.listdir(source_2)))"
   ]
  },
  {
   "cell_type": "markdown",
   "metadata": {},
   "source": [
    "Aiming for 4000 training images per class, and 500 testing images per class."
   ]
  },
  {
   "cell_type": "code",
   "execution_count": 12,
   "metadata": {},
   "outputs": [
    {
     "name": "stdout",
     "output_type": "stream",
     "text": [
      "All done!\n"
     ]
    }
   ],
   "source": [
    "# Copying the first 150 images: \n",
    "\n",
    "# Loop over the 2 classes\n",
    "for k in range(2):\n",
    "    \n",
    "    # Loop to copy every 10th image into testing, starting from the first\n",
    "    for i in range(150): # The range here is equal to the number of test/validation images\n",
    "        iterate = i * 10\n",
    "        src = source_dir[k]\n",
    "        des = testing_dir[k]\n",
    "        x = os.listdir(source_dir[k])\n",
    "        a = os.path.join(src,x[iterate])\n",
    "        des = os.path.join(des,x[iterate])\n",
    "        shutil.copyfile(a,des)\n",
    "        \n",
    "        val_id = iterate + 9\n",
    "        des = validation_dir[k]\n",
    "        a = os.path.join(src,x[val_id])\n",
    "        des = os.path.join(des,x[val_id])\n",
    "        shutil.copyfile(a,des)\n",
    "        \n",
    "        # Loop to copy every 2nd-8th image into training\n",
    "        for j in range(8):\n",
    "            j = j + 1\n",
    "            index = iterate + j\n",
    "            des = training_dir[k]\n",
    "            a = os.path.join(src,x[index])\n",
    "            des = os.path.join(des,x[index])\n",
    "            shutil.copyfile(a,des)\n",
    "            \n",
    "print(\"All done!\")"
   ]
  },
  {
   "cell_type": "code",
   "execution_count": 16,
   "metadata": {},
   "outputs": [
    {
     "name": "stdout",
     "output_type": "stream",
     "text": [
      "All done!\n"
     ]
    }
   ],
   "source": [
    "# Loop to do the same as above, but some number of images ahead\n",
    "# (to avoid slowdown/crashing from running too long)\n",
    "# For the next 150 images in each section:\n",
    "\n",
    "# Loop over the 2 classes\n",
    "for k in range(2):\n",
    "    \n",
    "    # Loop to copy every 10th image into testing, starting from the first\n",
    "    for i in range(150): # The range here is equal to the number of test/validation images\n",
    "        iterate = i * 10\n",
    "        src = source_dir[k]\n",
    "        des = testing_dir[k]\n",
    "        x = os.listdir(source_dir[k])\n",
    "        a = os.path.join(src,x[iterate + 1500])\n",
    "        des = os.path.join(des,x[iterate + 1500])\n",
    "        shutil.copyfile(a,des)\n",
    "        \n",
    "        val_id = iterate + 9\n",
    "        des = validation_dir[k]\n",
    "        a = os.path.join(src,x[val_id + 1500])\n",
    "        des = os.path.join(des,x[val_id + 1500])\n",
    "        shutil.copyfile(a,des)\n",
    "        \n",
    "        # Loop to copy every 2nd-8th image into training\n",
    "        for j in range(8):\n",
    "            j = j + 1\n",
    "            index = iterate + j\n",
    "            des = training_dir[k]\n",
    "            a = os.path.join(src,x[index + 1500])\n",
    "            des = os.path.join(des,x[index + 1500])\n",
    "            shutil.copyfile(a,des)\n",
    "            \n",
    "print(\"All done!\")"
   ]
  },
  {
   "cell_type": "code",
   "execution_count": 6,
   "metadata": {},
   "outputs": [
    {
     "name": "stdout",
     "output_type": "stream",
     "text": [
      "All done!\n"
     ]
    }
   ],
   "source": [
    "# Loop to do the same as above, but some number of images ahead\n",
    "# (to avoid slowdown/crashing from running too long)\n",
    "# For the last 200 images:\n",
    "\n",
    "# Loop over the 2 classes\n",
    "for k in range(2):\n",
    "    \n",
    "    # Loop to copy every 10th image into testing, starting from the first\n",
    "    for i in range(200): # The range here is equal to the number of test/validation images\n",
    "        iterate = i * 10\n",
    "        src = source_dir[k]\n",
    "        des = testing_dir[k]\n",
    "        x = os.listdir(source_dir[k])\n",
    "        a = os.path.join(src,x[iterate + 3000])\n",
    "        des = os.path.join(des,x[iterate + 3000])\n",
    "        shutil.copyfile(a,des)\n",
    "        \n",
    "        val_id = iterate + 9\n",
    "        des = validation_dir[k]\n",
    "        a = os.path.join(src,x[val_id + 3000])\n",
    "        des = os.path.join(des,x[val_id + 3000])\n",
    "        shutil.copyfile(a,des)\n",
    "        \n",
    "        # Loop to copy every 2nd-8th image into training\n",
    "        for j in range(8):\n",
    "            j = j + 1\n",
    "            index = iterate + j\n",
    "            des = training_dir[k]\n",
    "            a = os.path.join(src,x[index + 3000])\n",
    "            des = os.path.join(des,x[index + 3000])\n",
    "            shutil.copyfile(a,des)\n",
    "            \n",
    "print(\"All done!\")"
   ]
  },
  {
   "cell_type": "code",
   "execution_count": 4,
   "metadata": {},
   "outputs": [
    {
     "ename": "NameError",
     "evalue": "name 'k' is not defined",
     "output_type": "error",
     "traceback": [
      "\u001b[1;31m---------------------------------------------------------------------------\u001b[0m",
      "\u001b[1;31mNameError\u001b[0m                                 Traceback (most recent call last)",
      "\u001b[1;32m<ipython-input-4-3425e3c42789>\u001b[0m in \u001b[0;36m<module>\u001b[1;34m\u001b[0m\n\u001b[0;32m      1\u001b[0m \u001b[0miterate\u001b[0m \u001b[1;33m=\u001b[0m \u001b[1;36m0\u001b[0m\u001b[1;33m\u001b[0m\u001b[1;33m\u001b[0m\u001b[0m\n\u001b[1;32m----> 2\u001b[1;33m \u001b[0mx\u001b[0m \u001b[1;33m=\u001b[0m \u001b[0mos\u001b[0m\u001b[1;33m.\u001b[0m\u001b[0mlistdir\u001b[0m\u001b[1;33m(\u001b[0m\u001b[0msource_dir\u001b[0m\u001b[1;33m[\u001b[0m\u001b[0mk\u001b[0m\u001b[1;33m]\u001b[0m\u001b[1;33m)\u001b[0m\u001b[1;33m\u001b[0m\u001b[1;33m\u001b[0m\u001b[0m\n\u001b[0m\u001b[0;32m      3\u001b[0m \u001b[0mprint\u001b[0m\u001b[1;33m(\u001b[0m\u001b[0mx\u001b[0m\u001b[1;33m[\u001b[0m\u001b[0miterate\u001b[0m \u001b[1;33m+\u001b[0m \u001b[1;36m1500\u001b[0m \u001b[1;33m+\u001b[0m \u001b[1;36m1500\u001b[0m\u001b[1;33m]\u001b[0m\u001b[1;33m)\u001b[0m\u001b[1;33m\u001b[0m\u001b[1;33m\u001b[0m\u001b[0m\n",
      "\u001b[1;31mNameError\u001b[0m: name 'k' is not defined"
     ]
    }
   ],
   "source": [
    "iterate = 0\n",
    "x = os.listdir(source_dir[k])\n",
    "print(x[iterate + 1500 + 1500])"
   ]
  },
  {
   "cell_type": "code",
   "execution_count": null,
   "metadata": {},
   "outputs": [],
   "source": []
  }
 ],
 "metadata": {
  "kernelspec": {
   "display_name": "Python 3",
   "language": "python",
   "name": "python3"
  },
  "language_info": {
   "codemirror_mode": {
    "name": "ipython",
    "version": 3
   },
   "file_extension": ".py",
   "mimetype": "text/x-python",
   "name": "python",
   "nbconvert_exporter": "python",
   "pygments_lexer": "ipython3",
   "version": "3.7.4"
  }
 },
 "nbformat": 4,
 "nbformat_minor": 2
}
